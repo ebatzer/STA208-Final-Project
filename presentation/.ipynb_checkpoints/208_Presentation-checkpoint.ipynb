{
 "cells": [
  {
   "cell_type": "markdown",
   "metadata": {
    "slideshow": {
     "slide_type": "slide"
    }
   },
   "source": [
    "# STA208 Final Project\n",
    "\n",
    "## Predicting Marine Organism Conservation Status\n",
    "\n",
    "_________________\n",
    "__Author:__ Evan Batzer \n",
    "\n",
    "__Date:__ 6/2/2020"
   ]
  },
  {
   "cell_type": "markdown",
   "metadata": {
    "slideshow": {
     "slide_type": "slide"
    }
   },
   "source": [
    "### 0. Background\n",
    "\n",
    "Biodiversity loss is a major focus of environmental management in the 21st century -- extinctions of plant and animal species is estimated to be 10 - 100 times greater than in the past 10 million years, largely as a function of human activity. \n",
    "\n",
    "Several organizations have attempted to provide global-level databases to help monitor and predict biodiversity loss. Chief among these is the __IUCN__, the International Union for the Conservation of Nature, which publishes a continually updating list of species known as the _Red List_.\n",
    "\n",
    "![IUCN](../images/IUCN_logo.png)"
   ]
  },
  {
   "cell_type": "markdown",
   "metadata": {
    "slideshow": {
     "slide_type": "subslide"
    }
   },
   "source": [
    "The _Red List_ is established as a useful tool for conservation decision-making, but is difficult to maintain. There are estimated to be roughly 8.7 Million species on the planet, each of which must be assessed by a panel of experts to be included on the _Red List_. \n",
    "\n",
    "Species are given a conservation designation ranging from \"Least Concern\" to \"Extinct\".\n",
    "\n",
    "![IUCN_labels](../images/IUCN_classes.png)"
   ]
  },
  {
   "cell_type": "markdown",
   "metadata": {
    "slideshow": {
     "slide_type": "subslide"
    }
   },
   "source": [
    "However, species given conservation designations on the _Red List_ often share similar characteristics -- size, reproductive capacity, human use for agriculture, etc. These features may be effective classifiers of species with known conservation designations and may help speed the process of generating and updating IUCN databases.\n",
    "\n",
    "__Core Question:__ How well can conservation status be classified by species characteristics?"
   ]
  },
  {
   "cell_type": "markdown",
   "metadata": {
    "slideshow": {
     "slide_type": "slide"
    }
   },
   "source": [
    "### 1. Assembling Dataset"
   ]
  },
  {
   "cell_type": "markdown",
   "metadata": {
    "slideshow": {
     "slide_type": "subslide"
    }
   },
   "source": [
    "#### 1.1 Querying FishBase API\n",
    "\n",
    "FishBase is a global database containing information on the characteristics and distribution of roughly 34,000 fish species. These characteristics are thought to be good predictors of species IUCN status. Large, slow-growing species, for example, may be more likely to go extinct than smaller, faster-growing species with limited commercial value.\n",
    "\n",
    "Data is open access and generally well-documented, but provided at several levels of organization. Because IUCN categorization is made at the species level, meaningful features must be extracted, cleaned, and aggregated at an appropriate scale."
   ]
  },
  {
   "cell_type": "code",
   "execution_count": 1,
   "metadata": {
    "slideshow": {
     "slide_type": "skip"
    }
   },
   "outputs": [],
   "source": [
    "import requests\n",
    "import pandas as pd\n",
    "import numpy as np\n",
    "from os import path\n",
    "from plotnine import *\n",
    "from xgboost import XGBRFClassifier\n",
    "from matplotlib import pyplot as plt\n",
    "import copy\n",
    "\n",
    "from sklearn.preprocessing import OneHotEncoder\n",
    "from sklearn.preprocessing import label_binarize\n",
    "from sklearn.preprocessing import StandardScaler\n",
    "from sklearn.model_selection import StratifiedKFold\n",
    "from sklearn.model_selection import RandomizedSearchCV\n",
    "from sklearn.model_selection import cross_val_score\n",
    "from sklearn.experimental import enable_iterative_imputer\n",
    "from sklearn.impute import IterativeImputer\n",
    "from sklearn.ensemble import ExtraTreesRegressor\n",
    "from sklearn.neighbors import KNeighborsRegressor\n",
    "from sklearn.pipeline import make_pipeline\n",
    "from sklearn.metrics import roc_auc_score, roc_curve, auc, plot_roc_curve\n",
    "from sklearn.metrics import precision_recall_curve\n",
    "from sklearn.metrics import plot_precision_recall_curve"
   ]
  },
  {
   "cell_type": "code",
   "execution_count": 2,
   "metadata": {
    "slideshow": {
     "slide_type": "skip"
    }
   },
   "outputs": [],
   "source": [
    "def extract_fishbase(table):\n",
    "    \n",
    "    tablename = \"https://fishbase.ropensci.org/\" + table\n",
    "    query = requests.get(tablename + \"?limit=5000\")\n",
    "    n_obs = query.json()['count']\n",
    "    df = pd.DataFrame(query.json()['data'])\n",
    "\n",
    "    while(df.shape[0] < n_obs):\n",
    "        query = requests.get(tablename + \"?limit=5000&offset=\" + str(df.shape[0]))\n",
    "        tempdf = pd.DataFrame(query.json()['data'])\n",
    "        df = df.append(tempdf)\n",
    "        \n",
    "    print(\"Table '%s' - Returned %s rows of %s features\" % (table, df.shape[0], df.shape[1]))  \n",
    "    return(df)"
   ]
  },
  {
   "cell_type": "code",
   "execution_count": 3,
   "metadata": {
    "scrolled": true,
    "slideshow": {
     "slide_type": "subslide"
    }
   },
   "outputs": [
    {
     "name": "stdout",
     "output_type": "stream",
     "text": [
      "Table ''taxa' - Returned 34342 rows of 14 features\n",
      "Table ''species' - Returned 34342 rows of 102 features\n",
      "Table ''ecology' - Returned 11897 rows of 142 features\n",
      "Table ''ecosystem' - Returned 151869 rows of 47 features\n",
      "Table ''maturity' - Returned 8733 rows of 35 features\n"
     ]
    }
   ],
   "source": [
    "# All available species\n",
    "taxaTable = extract_fishbase(\"taxa\")\n",
    "\n",
    "# General species characteristics\n",
    "speciesTable = extract_fishbase(\"species\")\n",
    "\n",
    "# Species ecology (habitat type, prey, etc.)\n",
    "ecologyTable = extract_fishbase(\"ecology\")\n",
    "\n",
    "# Ecosystem characteristics\n",
    "ecosystemTable = extract_fishbase(\"ecosystem\")\n",
    "\n",
    "# Maturity / reproduction\n",
    "reproTable = extract_fishbase(\"maturity\")"
   ]
  },
  {
   "cell_type": "markdown",
   "metadata": {
    "slideshow": {
     "slide_type": "skip"
    }
   },
   "source": [
    "__Aggregating the ecosystem table:__ \n",
    "\n",
    "Rather than containing information on a species-by-species basis, the ecosystem table contains features that are organized by different habitats. Because models will be constructed at the species level (not subspecies or individual habitat), I aggregate these based on metric. Certain features are binary (present in freshwater/saltwater), so are converted to one-hot labels and summed per species -- some fish may be present in both types of water, for example. Others are summed or averaged, such as total range or average depth."
   ]
  },
  {
   "cell_type": "code",
   "execution_count": 4,
   "metadata": {
    "scrolled": false,
    "slideshow": {
     "slide_type": "skip"
    }
   },
   "outputs": [
    {
     "name": "stderr",
     "output_type": "stream",
     "text": [
      "C:\\Users\\ebatz\\anaconda3\\lib\\site-packages\\pandas\\core\\frame.py:2963: SettingWithCopyWarning: \n",
      "A value is trying to be set on a copy of a slice from a DataFrame.\n",
      "Try using .loc[row_indexer,col_indexer] = value instead\n",
      "\n",
      "See the caveats in the documentation: https://pandas.pydata.org/pandas-docs/stable/user_guide/indexing.html#returning-a-view-versus-a-copy\n",
      "  self[k1] = value[k2]\n",
      "C:\\Users\\ebatz\\anaconda3\\lib\\site-packages\\ipykernel_launcher.py:7: FutureWarning: Indexing with multiple keys (implicitly converted to a tuple of keys) will be deprecated, use a list instead.\n",
      "  import sys\n",
      "C:\\Users\\ebatz\\anaconda3\\lib\\site-packages\\ipykernel_launcher.py:9: SettingWithCopyWarning: \n",
      "A value is trying to be set on a copy of a slice from a DataFrame.\n",
      "Try using .loc[row_indexer,col_indexer] = value instead\n",
      "\n",
      "See the caveats in the documentation: https://pandas.pydata.org/pandas-docs/stable/user_guide/indexing.html#returning-a-view-versus-a-copy\n",
      "  if __name__ == '__main__':\n",
      "C:\\Users\\ebatz\\anaconda3\\lib\\site-packages\\ipykernel_launcher.py:13: SettingWithCopyWarning: \n",
      "A value is trying to be set on a copy of a slice from a DataFrame.\n",
      "Try using .loc[row_indexer,col_indexer] = value instead\n",
      "\n",
      "See the caveats in the documentation: https://pandas.pydata.org/pandas-docs/stable/user_guide/indexing.html#returning-a-view-versus-a-copy\n",
      "  del sys.path[0]\n"
     ]
    }
   ],
   "source": [
    "ecosys_cols = [\"Speccode\", \"Salinity\", \"Area\", \"SizeRef\", \"Climate\", \"AverageDepth\", \"MaxDepth\", \"TempSurface\", \"TempDepth\"]\n",
    "\n",
    "ecosys_subset = ecosystemTable[ecosys_cols]\n",
    "\n",
    "area_agg = ecosys_subset.groupby(\"Speccode\")[\"Area\"].sum()\n",
    "ecosys_subset[[\"AverageDepth\", \"TempSurface\", \"TempDepth\"]] = ecosys_subset[[\"AverageDepth\", \"TempSurface\", \"TempDepth\"]].apply(pd.to_numeric, errors='coerce')\n",
    "ATT_agg = ecosys_subset.groupby(\"Speccode\")[\"AverageDepth\", \"TempSurface\", \"TempDepth\"].mean()\n",
    "\n",
    "ecosys_subset[\"Climate\"] = ecosys_subset[\"Climate\"].str.lower().fillna(\"None\")\n",
    "climate_onehot = label_binarize(ecosys_subset[\"Climate\"], classes = ecosys_subset[\"Climate\"].unique()[0:5])\n",
    "climate_agg =  pd.DataFrame(climate_onehot, columns=ecosys_subset[\"Climate\"].unique()[[0,1,2,3,4]])\n",
    "\n",
    "ecosys_subset['Salinity'] = ecosys_subset['Salinity'].str.lower().fillna(\"None\")\n",
    "salinity_onehot = label_binarize(ecosys_subset['Salinity'], classes = ecosys_subset['Salinity'].unique()[0:3])\n",
    "salinity_agg =  pd.DataFrame(salinity_onehot, columns=ecosys_subset['Salinity'].unique()[0:3])\n",
    "\n",
    "cat_full = pd.DataFrame(ecosys_subset[\"Speccode\"]).join([salinity_agg, climate_agg]).groupby('Speccode').sum()\n",
    "cat_full = (cat_full > 1) * 1\n",
    "\n",
    "ecosys_full = cat_full.join([area_agg, ATT_agg])\n",
    "ecosys_full.reset_index(inplace = True)"
   ]
  },
  {
   "cell_type": "markdown",
   "metadata": {
    "slideshow": {
     "slide_type": "skip"
    }
   },
   "source": [
    "Other tables contain considerable overlap in columns, particularly related to error checking or source material. Here, I subset each table to the relevant set of characteristics from each."
   ]
  },
  {
   "cell_type": "code",
   "execution_count": 5,
   "metadata": {
    "scrolled": false,
    "slideshow": {
     "slide_type": "skip"
    }
   },
   "outputs": [
    {
     "name": "stderr",
     "output_type": "stream",
     "text": [
      "C:\\Users\\ebatz\\anaconda3\\lib\\site-packages\\ipykernel_launcher.py:31: SettingWithCopyWarning: \n",
      "A value is trying to be set on a copy of a slice from a DataFrame.\n",
      "Try using .loc[row_indexer,col_indexer] = value instead\n",
      "\n",
      "See the caveats in the documentation: https://pandas.pydata.org/pandas-docs/stable/user_guide/indexing.html#returning-a-view-versus-a-copy\n"
     ]
    }
   ],
   "source": [
    "# Columns for the taxonomy dataset\n",
    "taxa_cols = [\"SpecCode\", \"Genus\", \"Species\", \"Family\", \"Order\", \"Class\"]\n",
    "taxa_subset = taxaTable[taxa_cols].set_index(\"SpecCode\")\n",
    "\n",
    "# Columns for the species dataset\n",
    "spec_cols = [\"SpecCode\", \"Vulnerability\", \"Length\", \"Weight\", \"Importance\", \"UsedforAquaculture\",\n",
    "             \"UsedasBait\", \"Aquarium\", \"GameFish\", \"Dangerous\"]\n",
    "\n",
    "# Columns for the reproduction dataset\n",
    "reproTable.rename(columns={\"Speccode\": \"SpecCode\"}, inplace = True)\n",
    "repro_cols = [\"SpecCode\", \"AgeMatMin\", \"AgeMatMin2\", \"LengthMatMin\", \"LengthMatMin2\"]\n",
    "repro_subset = reproTable[repro_cols].set_index(\"SpecCode\")\n",
    "\n",
    "repro_subset = repro_subset.groupby(\"SpecCode\").mean()\n",
    "AgeMin = repro_subset[[\"AgeMatMin\",\"AgeMatMin2\"]].min(axis = 1)\n",
    "LengthMin = repro_subset[[\"LengthMatMin\",\"LengthMatMin2\"]].min(axis = 1)\n",
    "repro_subset = pd.concat([pd.Series(AgeMin), pd.Series(LengthMin)],axis = 1)\n",
    "repro_subset.columns = [\"Age_Maturity\", \"Length_Maturity\"]\n",
    "\n",
    "# Columns for the ecology dataset\n",
    "eco_cols = [\"SpecCode\",\"Neritic\", \"SupraLittoralZone\", \"Saltmarshes\", \"LittoralZone\", \"TidePools\", \"Intertidal\", \"SubLittoral\", \n",
    "\"Caves\", \"Oceanic\",\"Epipelagic\", \"Mesopelagic\", \"Bathypelagic\", \"Abyssopelagic\", \"Hadopelagic\", \"Estuaries\", \"Mangroves\",\n",
    "\"MarshesSwamps\", \"CaveAnchialine\", \"Stream\", \"Lakes\",\"Cave\",'DietTLu']\n",
    "\n",
    "# Binaries are coded as -1,0 in this data - converting to 1,0\n",
    "eco_subset = ecologyTable[eco_cols].set_index(\"SpecCode\")\n",
    "eco_subset[eco_cols[1:-1]] = (eco_subset[eco_cols[1:-1]] == -1) * 1\n",
    "eco_subset = eco_subset.groupby(\"SpecCode\").sum()\n",
    "\n",
    "spec_subset = speciesTable[spec_cols]\n",
    "spec_subset[\"GameFish\"] = (speciesTable[\"GameFish\"] == -1) * 1\n",
    "\n",
    "# Binarizing labels\n",
    "spec_bin = pd.concat(\n",
    "    [pd.get_dummies(spec_subset[\"Importance\"], prefix='Imp'),\n",
    "     pd.get_dummies(spec_subset[\"Aquarium\"], prefix='Aquarium'),\n",
    "     pd.get_dummies(spec_subset[\"UsedforAquaculture\"], prefix='Aquaculture'),\n",
    "     pd.get_dummies(spec_subset[\"UsedasBait\"], prefix='Bait').iloc[:,1:],\n",
    "     pd.get_dummies(spec_subset[\"Dangerous\"], prefix='Danger')],\n",
    "    axis = 1)\n",
    "\n",
    "spec_subset = pd.concat([spec_subset.drop(columns = [\"Importance\", \"Aquarium\", \"UsedforAquaculture\", \"UsedasBait\", \"Dangerous\"]),\n",
    "           spec_bin],\n",
    "          axis = 1).set_index(\"SpecCode\")"
   ]
  },
  {
   "cell_type": "markdown",
   "metadata": {
    "slideshow": {
     "slide_type": "skip"
    }
   },
   "source": [
    "#### 1.2 Joining Tables"
   ]
  },
  {
   "cell_type": "code",
   "execution_count": 6,
   "metadata": {
    "scrolled": true,
    "slideshow": {
     "slide_type": "subslide"
    }
   },
   "outputs": [
    {
     "data": {
      "text/html": [
       "<div>\n",
       "<style scoped>\n",
       "    .dataframe tbody tr th:only-of-type {\n",
       "        vertical-align: middle;\n",
       "    }\n",
       "\n",
       "    .dataframe tbody tr th {\n",
       "        vertical-align: top;\n",
       "    }\n",
       "\n",
       "    .dataframe thead th {\n",
       "        text-align: right;\n",
       "    }\n",
       "</style>\n",
       "<table border=\"1\" class=\"dataframe\">\n",
       "  <thead>\n",
       "    <tr style=\"text-align: right;\">\n",
       "      <th></th>\n",
       "      <th>Genus</th>\n",
       "      <th>Species</th>\n",
       "      <th>Family</th>\n",
       "      <th>Order</th>\n",
       "      <th>Class</th>\n",
       "      <th>Vulnerability</th>\n",
       "      <th>Length</th>\n",
       "      <th>Weight</th>\n",
       "      <th>GameFish</th>\n",
       "      <th>Imp_</th>\n",
       "      <th>...</th>\n",
       "      <th>brackish</th>\n",
       "      <th>tropical</th>\n",
       "      <th>subtropical</th>\n",
       "      <th>polar</th>\n",
       "      <th>temperate</th>\n",
       "      <th>boreal</th>\n",
       "      <th>Area</th>\n",
       "      <th>AverageDepth</th>\n",
       "      <th>TempSurface</th>\n",
       "      <th>TempDepth</th>\n",
       "    </tr>\n",
       "    <tr>\n",
       "      <th>SpecCode</th>\n",
       "      <th></th>\n",
       "      <th></th>\n",
       "      <th></th>\n",
       "      <th></th>\n",
       "      <th></th>\n",
       "      <th></th>\n",
       "      <th></th>\n",
       "      <th></th>\n",
       "      <th></th>\n",
       "      <th></th>\n",
       "      <th></th>\n",
       "      <th></th>\n",
       "      <th></th>\n",
       "      <th></th>\n",
       "      <th></th>\n",
       "      <th></th>\n",
       "      <th></th>\n",
       "      <th></th>\n",
       "      <th></th>\n",
       "      <th></th>\n",
       "      <th></th>\n",
       "    </tr>\n",
       "  </thead>\n",
       "  <tbody>\n",
       "    <tr>\n",
       "      <th>48039</th>\n",
       "      <td>Abyssocottus</td>\n",
       "      <td>elochini</td>\n",
       "      <td>Abyssocottidae</td>\n",
       "      <td>Scorpaeniformes</td>\n",
       "      <td>Actinopterygii</td>\n",
       "      <td>40.29</td>\n",
       "      <td>NaN</td>\n",
       "      <td>NaN</td>\n",
       "      <td>0.0</td>\n",
       "      <td>0.0</td>\n",
       "      <td>...</td>\n",
       "      <td>NaN</td>\n",
       "      <td>NaN</td>\n",
       "      <td>NaN</td>\n",
       "      <td>NaN</td>\n",
       "      <td>NaN</td>\n",
       "      <td>NaN</td>\n",
       "      <td>NaN</td>\n",
       "      <td>NaN</td>\n",
       "      <td>NaN</td>\n",
       "      <td>NaN</td>\n",
       "    </tr>\n",
       "    <tr>\n",
       "      <th>48040</th>\n",
       "      <td>Abyssocottus</td>\n",
       "      <td>gibbosus</td>\n",
       "      <td>Abyssocottidae</td>\n",
       "      <td>Scorpaeniformes</td>\n",
       "      <td>Actinopterygii</td>\n",
       "      <td>35.49</td>\n",
       "      <td>14.0</td>\n",
       "      <td>NaN</td>\n",
       "      <td>0.0</td>\n",
       "      <td>0.0</td>\n",
       "      <td>...</td>\n",
       "      <td>NaN</td>\n",
       "      <td>NaN</td>\n",
       "      <td>NaN</td>\n",
       "      <td>NaN</td>\n",
       "      <td>NaN</td>\n",
       "      <td>NaN</td>\n",
       "      <td>NaN</td>\n",
       "      <td>NaN</td>\n",
       "      <td>NaN</td>\n",
       "      <td>NaN</td>\n",
       "    </tr>\n",
       "    <tr>\n",
       "      <th>47208</th>\n",
       "      <td>Abyssocottus</td>\n",
       "      <td>korotneffi</td>\n",
       "      <td>Abyssocottidae</td>\n",
       "      <td>Scorpaeniformes</td>\n",
       "      <td>Actinopterygii</td>\n",
       "      <td>32.97</td>\n",
       "      <td>12.6</td>\n",
       "      <td>NaN</td>\n",
       "      <td>0.0</td>\n",
       "      <td>0.0</td>\n",
       "      <td>...</td>\n",
       "      <td>NaN</td>\n",
       "      <td>NaN</td>\n",
       "      <td>NaN</td>\n",
       "      <td>NaN</td>\n",
       "      <td>NaN</td>\n",
       "      <td>NaN</td>\n",
       "      <td>NaN</td>\n",
       "      <td>NaN</td>\n",
       "      <td>NaN</td>\n",
       "      <td>NaN</td>\n",
       "    </tr>\n",
       "    <tr>\n",
       "      <th>48048</th>\n",
       "      <td>Asprocottus</td>\n",
       "      <td>abyssalis</td>\n",
       "      <td>Abyssocottidae</td>\n",
       "      <td>Scorpaeniformes</td>\n",
       "      <td>Actinopterygii</td>\n",
       "      <td>38.21</td>\n",
       "      <td>NaN</td>\n",
       "      <td>NaN</td>\n",
       "      <td>0.0</td>\n",
       "      <td>0.0</td>\n",
       "      <td>...</td>\n",
       "      <td>NaN</td>\n",
       "      <td>NaN</td>\n",
       "      <td>NaN</td>\n",
       "      <td>NaN</td>\n",
       "      <td>NaN</td>\n",
       "      <td>NaN</td>\n",
       "      <td>NaN</td>\n",
       "      <td>NaN</td>\n",
       "      <td>NaN</td>\n",
       "      <td>NaN</td>\n",
       "    </tr>\n",
       "    <tr>\n",
       "      <th>48049</th>\n",
       "      <td>Asprocottus</td>\n",
       "      <td>herzensteini</td>\n",
       "      <td>Abyssocottidae</td>\n",
       "      <td>Scorpaeniformes</td>\n",
       "      <td>Actinopterygii</td>\n",
       "      <td>33.02</td>\n",
       "      <td>11.5</td>\n",
       "      <td>NaN</td>\n",
       "      <td>0.0</td>\n",
       "      <td>0.0</td>\n",
       "      <td>...</td>\n",
       "      <td>NaN</td>\n",
       "      <td>NaN</td>\n",
       "      <td>NaN</td>\n",
       "      <td>NaN</td>\n",
       "      <td>NaN</td>\n",
       "      <td>NaN</td>\n",
       "      <td>NaN</td>\n",
       "      <td>NaN</td>\n",
       "      <td>NaN</td>\n",
       "      <td>NaN</td>\n",
       "    </tr>\n",
       "  </tbody>\n",
       "</table>\n",
       "<p>5 rows × 74 columns</p>\n",
       "</div>"
      ],
      "text/plain": [
       "                 Genus       Species          Family            Order  \\\n",
       "SpecCode                                                                \n",
       "48039     Abyssocottus      elochini  Abyssocottidae  Scorpaeniformes   \n",
       "48040     Abyssocottus      gibbosus  Abyssocottidae  Scorpaeniformes   \n",
       "47208     Abyssocottus    korotneffi  Abyssocottidae  Scorpaeniformes   \n",
       "48048      Asprocottus     abyssalis  Abyssocottidae  Scorpaeniformes   \n",
       "48049      Asprocottus  herzensteini  Abyssocottidae  Scorpaeniformes   \n",
       "\n",
       "                   Class  Vulnerability  Length  Weight  GameFish  Imp_   ...  \\\n",
       "SpecCode                                                                  ...   \n",
       "48039     Actinopterygii          40.29     NaN     NaN       0.0    0.0  ...   \n",
       "48040     Actinopterygii          35.49    14.0     NaN       0.0    0.0  ...   \n",
       "47208     Actinopterygii          32.97    12.6     NaN       0.0    0.0  ...   \n",
       "48048     Actinopterygii          38.21     NaN     NaN       0.0    0.0  ...   \n",
       "48049     Actinopterygii          33.02    11.5     NaN       0.0    0.0  ...   \n",
       "\n",
       "          brackish  tropical  subtropical  polar  temperate  boreal  Area  \\\n",
       "SpecCode                                                                    \n",
       "48039          NaN       NaN          NaN    NaN        NaN     NaN   NaN   \n",
       "48040          NaN       NaN          NaN    NaN        NaN     NaN   NaN   \n",
       "47208          NaN       NaN          NaN    NaN        NaN     NaN   NaN   \n",
       "48048          NaN       NaN          NaN    NaN        NaN     NaN   NaN   \n",
       "48049          NaN       NaN          NaN    NaN        NaN     NaN   NaN   \n",
       "\n",
       "          AverageDepth  TempSurface  TempDepth  \n",
       "SpecCode                                        \n",
       "48039              NaN          NaN        NaN  \n",
       "48040              NaN          NaN        NaN  \n",
       "47208              NaN          NaN        NaN  \n",
       "48048              NaN          NaN        NaN  \n",
       "48049              NaN          NaN        NaN  \n",
       "\n",
       "[5 rows x 74 columns]"
      ]
     },
     "execution_count": 6,
     "metadata": {},
     "output_type": "execute_result"
    }
   ],
   "source": [
    "features = taxa_subset.join([spec_subset, eco_subset, repro_subset, ecosys_full])\n",
    "features.head()"
   ]
  },
  {
   "cell_type": "code",
   "execution_count": 7,
   "metadata": {
    "slideshow": {
     "slide_type": "skip"
    }
   },
   "outputs": [],
   "source": [
    "features.to_csv(\"data/fishbase_features.csv\")"
   ]
  },
  {
   "cell_type": "markdown",
   "metadata": {
    "slideshow": {
     "slide_type": "skip"
    }
   },
   "source": [
    "#### 1.3 Creating IUCN Labels"
   ]
  },
  {
   "cell_type": "code",
   "execution_count": 8,
   "metadata": {
    "slideshow": {
     "slide_type": "skip"
    }
   },
   "outputs": [],
   "source": [
    "if not path.exists('data/IUCN.csv'):\n",
    "\n",
    "    try:\n",
    "        from urllib.request import urlretrieve\n",
    "    except ImportError:\n",
    "        from urllib import urlretrieve\n",
    "\n",
    "    urlretrieve('https://drive.google.com/u/0/uc?id=0B9_zEbZIPqtIVXJ1VVpEMGNxdnc&export=download', \n",
    "                'data/IUCN.csv')\n",
    "\n",
    "# Reading in dataset -- correcting some encoding errors    \n",
    "IUCN_labels = pd.read_csv('data/IUCN.csv', encoding = \"ISO-8859-1\", engine='python')"
   ]
  },
  {
   "cell_type": "code",
   "execution_count": 9,
   "metadata": {
    "slideshow": {
     "slide_type": "skip"
    }
   },
   "outputs": [
    {
     "data": {
      "text/html": [
       "<div>\n",
       "<style scoped>\n",
       "    .dataframe tbody tr th:only-of-type {\n",
       "        vertical-align: middle;\n",
       "    }\n",
       "\n",
       "    .dataframe tbody tr th {\n",
       "        vertical-align: top;\n",
       "    }\n",
       "\n",
       "    .dataframe thead th {\n",
       "        text-align: right;\n",
       "    }\n",
       "</style>\n",
       "<table border=\"1\" class=\"dataframe\">\n",
       "  <thead>\n",
       "    <tr style=\"text-align: right;\">\n",
       "      <th></th>\n",
       "      <th>Class</th>\n",
       "      <th>Order</th>\n",
       "      <th>Family</th>\n",
       "      <th>Genus</th>\n",
       "      <th>Species</th>\n",
       "      <th>Red List status</th>\n",
       "    </tr>\n",
       "  </thead>\n",
       "  <tbody>\n",
       "    <tr>\n",
       "      <th>0</th>\n",
       "      <td>Magnoliopsida</td>\n",
       "      <td>Fabales</td>\n",
       "      <td>Leguminosae</td>\n",
       "      <td>Abarema</td>\n",
       "      <td>cochliocarpos</td>\n",
       "      <td>LC</td>\n",
       "    </tr>\n",
       "    <tr>\n",
       "      <th>1</th>\n",
       "      <td>Magnoliopsida</td>\n",
       "      <td>Fabales</td>\n",
       "      <td>Leguminosae</td>\n",
       "      <td>Abarema</td>\n",
       "      <td>commutata</td>\n",
       "      <td>LR/lc</td>\n",
       "    </tr>\n",
       "    <tr>\n",
       "      <th>2</th>\n",
       "      <td>Magnoliopsida</td>\n",
       "      <td>Fabales</td>\n",
       "      <td>Leguminosae</td>\n",
       "      <td>Abarema</td>\n",
       "      <td>curvicarpa</td>\n",
       "      <td>LC</td>\n",
       "    </tr>\n",
       "    <tr>\n",
       "      <th>3</th>\n",
       "      <td>Aves</td>\n",
       "      <td>Caprimulgiformes</td>\n",
       "      <td>Trochilidae</td>\n",
       "      <td>Abeillia</td>\n",
       "      <td>abeillei</td>\n",
       "      <td>LC</td>\n",
       "    </tr>\n",
       "    <tr>\n",
       "      <th>4</th>\n",
       "      <td>Mammalia</td>\n",
       "      <td>Rodentia</td>\n",
       "      <td>Muridae</td>\n",
       "      <td>Abeomelomys</td>\n",
       "      <td>sevia</td>\n",
       "      <td>LC</td>\n",
       "    </tr>\n",
       "  </tbody>\n",
       "</table>\n",
       "</div>"
      ],
      "text/plain": [
       "           Class             Order       Family        Genus        Species  \\\n",
       "0  Magnoliopsida           Fabales  Leguminosae      Abarema  cochliocarpos   \n",
       "1  Magnoliopsida           Fabales  Leguminosae      Abarema      commutata   \n",
       "2  Magnoliopsida           Fabales  Leguminosae      Abarema     curvicarpa   \n",
       "3           Aves  Caprimulgiformes  Trochilidae     Abeillia       abeillei   \n",
       "4       Mammalia          Rodentia      Muridae  Abeomelomys          sevia   \n",
       "\n",
       "  Red List status  \n",
       "0              LC  \n",
       "1           LR/lc  \n",
       "2              LC  \n",
       "3              LC  \n",
       "4              LC  "
      ]
     },
     "execution_count": 9,
     "metadata": {},
     "output_type": "execute_result"
    }
   ],
   "source": [
    "IUCN_labels = IUCN_labels[[\"Class\", 'Order', 'Family', 'Genus', 'Species', 'Red List status']]\n",
    "\n",
    "IUCN_labels[[\"Class\", 'Order', 'Family']] = IUCN_labels[[\"Class\", 'Order', 'Family']].apply(lambda x: x.astype(str).str.capitalize())\n",
    "fish_classes = ['Actinopterygii', 'Chondrichthyes','Sarcopterygii','Cephalaspidomorphi']\n",
    "\n",
    "IUCN_subset = IUCN_labels.loc[IUCN_labels['Class'].isin(fish_classes)]\n",
    "\n",
    "IUCN_labels.head()"
   ]
  },
  {
   "cell_type": "code",
   "execution_count": 10,
   "metadata": {
    "slideshow": {
     "slide_type": "skip"
    }
   },
   "outputs": [],
   "source": [
    "full_df = pd.merge(features, IUCN_subset.iloc[:,3:],  \n",
    "         how='left', \n",
    "         left_on=['Genus', 'Species'], \n",
    "         right_on = ['Genus', 'Species'])"
   ]
  },
  {
   "cell_type": "markdown",
   "metadata": {
    "slideshow": {
     "slide_type": "skip"
    }
   },
   "source": [
    "__Note:__ Some issues with taxonomy cause issues with the join. ~150 labels need to have corrected Genus/Species labels to match the current version of FishBase. Will have to correct manually later on."
   ]
  },
  {
   "cell_type": "code",
   "execution_count": 11,
   "metadata": {
    "slideshow": {
     "slide_type": "skip"
    }
   },
   "outputs": [
    {
     "data": {
      "text/plain": [
       "(9268, 75)"
      ]
     },
     "execution_count": 11,
     "metadata": {},
     "output_type": "execute_result"
    }
   ],
   "source": [
    "data_labelled = full_df[full_df[\"Red List status\"].notna()]\n",
    "data_labelled.shape"
   ]
  },
  {
   "cell_type": "markdown",
   "metadata": {
    "slideshow": {
     "slide_type": "skip"
    }
   },
   "source": [
    "Updated versions of the RedList dataset are not yet available for download. The data I am using is a few years old, and contains secondary categories between LC - \"Least Concern\" and NT - \"Near Threatened\" -- \"LR/lc\" and \"LR/nt\". There are relatively few observations of this class, so I'll just lump them into the LC class."
   ]
  },
  {
   "cell_type": "code",
   "execution_count": 12,
   "metadata": {
    "scrolled": true,
    "slideshow": {
     "slide_type": "skip"
    }
   },
   "outputs": [
    {
     "name": "stderr",
     "output_type": "stream",
     "text": [
      "C:\\Users\\ebatz\\anaconda3\\lib\\site-packages\\ipykernel_launcher.py:1: SettingWithCopyWarning: \n",
      "A value is trying to be set on a copy of a slice from a DataFrame.\n",
      "Try using .loc[row_indexer,col_indexer] = value instead\n",
      "\n",
      "See the caveats in the documentation: https://pandas.pydata.org/pandas-docs/stable/user_guide/indexing.html#returning-a-view-versus-a-copy\n",
      "  \"\"\"Entry point for launching an IPython kernel.\n",
      "C:\\Users\\ebatz\\anaconda3\\lib\\site-packages\\ipykernel_launcher.py:4: SettingWithCopyWarning: \n",
      "A value is trying to be set on a copy of a slice from a DataFrame.\n",
      "Try using .loc[row_indexer,col_indexer] = value instead\n",
      "\n",
      "See the caveats in the documentation: https://pandas.pydata.org/pandas-docs/stable/user_guide/indexing.html#returning-a-view-versus-a-copy\n",
      "  after removing the cwd from sys.path.\n"
     ]
    }
   ],
   "source": [
    "data_labelled[\"Red List status\"] = data_labelled[\"Red List status\"].str.replace(\"LR.+\", \"LC\")\n",
    "data_labelled[\"Red List status\"] = pd.Categorical(data_labelled[\"Red List status\"],\n",
    "               categories = [\"LC\", \"NT\", \"VU\", \"EN\", \"CR\", \"EW\", \"EX\"],\n",
    "              ordered=True)"
   ]
  },
  {
   "cell_type": "markdown",
   "metadata": {
    "slideshow": {
     "slide_type": "skip"
    }
   },
   "source": [
    "Removing species that are \"endangered\" or \"extinct in the wild\""
   ]
  },
  {
   "cell_type": "code",
   "execution_count": 13,
   "metadata": {
    "slideshow": {
     "slide_type": "skip"
    }
   },
   "outputs": [],
   "source": [
    "import numpy as np\n",
    "data_labelled = data_labelled[~data_labelled[\"Red List status\"].isin([\"EX\", \"EW\"])]\n",
    "data_labelled.to_csv(\"data/data_labelled.csv\")"
   ]
  },
  {
   "cell_type": "code",
   "execution_count": 14,
   "metadata": {
    "slideshow": {
     "slide_type": "subslide"
    }
   },
   "outputs": [
    {
     "data": {
      "image/png": "[encoded data removed]",
      "text/plain": [
       "<Figure size 640x480 with 1 Axes>"
      ]
     },
     "metadata": {},
     "output_type": "display_data"
    },
    {
     "data": {
      "text/plain": [
       "<ggplot: (-9223371921828598056)>"
      ]
     },
     "execution_count": 14,
     "metadata": {},
     "output_type": "execute_result"
    }
   ],
   "source": [
    "(ggplot(data_labelled,\n",
    "       aes(x = 'Red List status',\n",
    "          fill = 'Red List status')) + \n",
    " geom_bar() +\n",
    "scale_fill_cmap_d(\"magma\"))"
   ]
  },
  {
   "cell_type": "markdown",
   "metadata": {
    "slideshow": {
     "slide_type": "slide"
    }
   },
   "source": [
    "### 2. Binary Classification -- \"Least Concern\" vs. Others\n",
    "\n",
    "The simplest way to look at this data is through a binary classification between the \"Least Concern\" class and all others that reflect some degree of vulnerability to extinction. This approach is common in published studies that have examined this problem. "
   ]
  },
  {
   "cell_type": "code",
   "execution_count": 51,
   "metadata": {
    "slideshow": {
     "slide_type": "skip"
    }
   },
   "outputs": [
    {
     "data": {
      "text/html": [
       "<div>\n",
       "<style scoped>\n",
       "    .dataframe tbody tr th:only-of-type {\n",
       "        vertical-align: middle;\n",
       "    }\n",
       "\n",
       "    .dataframe tbody tr th {\n",
       "        vertical-align: top;\n",
       "    }\n",
       "\n",
       "    .dataframe thead th {\n",
       "        text-align: right;\n",
       "    }\n",
       "</style>\n",
       "<table border=\"1\" class=\"dataframe\">\n",
       "  <thead>\n",
       "    <tr style=\"text-align: right;\">\n",
       "      <th></th>\n",
       "      <th>Length</th>\n",
       "      <th>Weight</th>\n",
       "      <th>GameFish</th>\n",
       "      <th>Imp_commercial</th>\n",
       "      <th>Imp_highly commercial</th>\n",
       "      <th>Imp_minor commercial</th>\n",
       "      <th>Imp_of no interest</th>\n",
       "      <th>Imp_of potential interest</th>\n",
       "      <th>Imp_subsistence fisheries</th>\n",
       "      <th>Aquarium_commercial</th>\n",
       "      <th>...</th>\n",
       "      <th>brackish</th>\n",
       "      <th>tropical</th>\n",
       "      <th>subtropical</th>\n",
       "      <th>polar</th>\n",
       "      <th>temperate</th>\n",
       "      <th>boreal</th>\n",
       "      <th>Area</th>\n",
       "      <th>AverageDepth</th>\n",
       "      <th>TempSurface</th>\n",
       "      <th>TempDepth</th>\n",
       "    </tr>\n",
       "  </thead>\n",
       "  <tbody>\n",
       "    <tr>\n",
       "      <th>0</th>\n",
       "      <td>24.0</td>\n",
       "      <td>NaN</td>\n",
       "      <td>0.0</td>\n",
       "      <td>1.0</td>\n",
       "      <td>0.0</td>\n",
       "      <td>0.0</td>\n",
       "      <td>0.0</td>\n",
       "      <td>0.0</td>\n",
       "      <td>0.0</td>\n",
       "      <td>1.0</td>\n",
       "      <td>...</td>\n",
       "      <td>0.0</td>\n",
       "      <td>1.0</td>\n",
       "      <td>0.0</td>\n",
       "      <td>0.0</td>\n",
       "      <td>0.0</td>\n",
       "      <td>0.0</td>\n",
       "      <td>NaN</td>\n",
       "      <td>NaN</td>\n",
       "      <td>NaN</td>\n",
       "      <td>NaN</td>\n",
       "    </tr>\n",
       "    <tr>\n",
       "      <th>1</th>\n",
       "      <td>33.0</td>\n",
       "      <td>NaN</td>\n",
       "      <td>0.0</td>\n",
       "      <td>0.0</td>\n",
       "      <td>0.0</td>\n",
       "      <td>0.0</td>\n",
       "      <td>0.0</td>\n",
       "      <td>0.0</td>\n",
       "      <td>0.0</td>\n",
       "      <td>0.0</td>\n",
       "      <td>...</td>\n",
       "      <td>0.0</td>\n",
       "      <td>1.0</td>\n",
       "      <td>0.0</td>\n",
       "      <td>0.0</td>\n",
       "      <td>0.0</td>\n",
       "      <td>0.0</td>\n",
       "      <td>NaN</td>\n",
       "      <td>NaN</td>\n",
       "      <td>NaN</td>\n",
       "      <td>NaN</td>\n",
       "    </tr>\n",
       "    <tr>\n",
       "      <th>2</th>\n",
       "      <td>45.0</td>\n",
       "      <td>NaN</td>\n",
       "      <td>0.0</td>\n",
       "      <td>1.0</td>\n",
       "      <td>0.0</td>\n",
       "      <td>0.0</td>\n",
       "      <td>0.0</td>\n",
       "      <td>0.0</td>\n",
       "      <td>0.0</td>\n",
       "      <td>0.0</td>\n",
       "      <td>...</td>\n",
       "      <td>0.0</td>\n",
       "      <td>1.0</td>\n",
       "      <td>0.0</td>\n",
       "      <td>0.0</td>\n",
       "      <td>0.0</td>\n",
       "      <td>0.0</td>\n",
       "      <td>244296764.0</td>\n",
       "      <td>4100.0</td>\n",
       "      <td>20.05</td>\n",
       "      <td>17.375</td>\n",
       "    </tr>\n",
       "    <tr>\n",
       "      <th>3</th>\n",
       "      <td>NaN</td>\n",
       "      <td>NaN</td>\n",
       "      <td>0.0</td>\n",
       "      <td>0.0</td>\n",
       "      <td>0.0</td>\n",
       "      <td>0.0</td>\n",
       "      <td>0.0</td>\n",
       "      <td>0.0</td>\n",
       "      <td>0.0</td>\n",
       "      <td>0.0</td>\n",
       "      <td>...</td>\n",
       "      <td>NaN</td>\n",
       "      <td>NaN</td>\n",
       "      <td>NaN</td>\n",
       "      <td>NaN</td>\n",
       "      <td>NaN</td>\n",
       "      <td>NaN</td>\n",
       "      <td>NaN</td>\n",
       "      <td>NaN</td>\n",
       "      <td>NaN</td>\n",
       "      <td>NaN</td>\n",
       "    </tr>\n",
       "    <tr>\n",
       "      <th>4</th>\n",
       "      <td>50.0</td>\n",
       "      <td>NaN</td>\n",
       "      <td>0.0</td>\n",
       "      <td>1.0</td>\n",
       "      <td>0.0</td>\n",
       "      <td>0.0</td>\n",
       "      <td>0.0</td>\n",
       "      <td>0.0</td>\n",
       "      <td>0.0</td>\n",
       "      <td>1.0</td>\n",
       "      <td>...</td>\n",
       "      <td>0.0</td>\n",
       "      <td>1.0</td>\n",
       "      <td>0.0</td>\n",
       "      <td>0.0</td>\n",
       "      <td>0.0</td>\n",
       "      <td>0.0</td>\n",
       "      <td>85029540.0</td>\n",
       "      <td>3600.0</td>\n",
       "      <td>21.55</td>\n",
       "      <td>17.550</td>\n",
       "    </tr>\n",
       "  </tbody>\n",
       "</table>\n",
       "<p>5 rows × 66 columns</p>\n",
       "</div>"
      ],
      "text/plain": [
       "   Length  Weight  GameFish  Imp_commercial  Imp_highly commercial  \\\n",
       "0    24.0     NaN       0.0             1.0                    0.0   \n",
       "1    33.0     NaN       0.0             0.0                    0.0   \n",
       "2    45.0     NaN       0.0             1.0                    0.0   \n",
       "3     NaN     NaN       0.0             0.0                    0.0   \n",
       "4    50.0     NaN       0.0             1.0                    0.0   \n",
       "\n",
       "   Imp_minor commercial  Imp_of no interest  Imp_of potential interest  \\\n",
       "0                   0.0                 0.0                        0.0   \n",
       "1                   0.0                 0.0                        0.0   \n",
       "2                   0.0                 0.0                        0.0   \n",
       "3                   0.0                 0.0                        0.0   \n",
       "4                   0.0                 0.0                        0.0   \n",
       "\n",
       "   Imp_subsistence fisheries  Aquarium_commercial  ...  brackish  tropical  \\\n",
       "0                        0.0                  1.0  ...       0.0       1.0   \n",
       "1                        0.0                  0.0  ...       0.0       1.0   \n",
       "2                        0.0                  0.0  ...       0.0       1.0   \n",
       "3                        0.0                  0.0  ...       NaN       NaN   \n",
       "4                        0.0                  1.0  ...       0.0       1.0   \n",
       "\n",
       "   subtropical  polar  temperate  boreal         Area  AverageDepth  \\\n",
       "0          0.0    0.0        0.0     0.0          NaN           NaN   \n",
       "1          0.0    0.0        0.0     0.0          NaN           NaN   \n",
       "2          0.0    0.0        0.0     0.0  244296764.0        4100.0   \n",
       "3          NaN    NaN        NaN     NaN          NaN           NaN   \n",
       "4          0.0    0.0        0.0     0.0   85029540.0        3600.0   \n",
       "\n",
       "   TempSurface  TempDepth  \n",
       "0          NaN        NaN  \n",
       "1          NaN        NaN  \n",
       "2        20.05     17.375  \n",
       "3          NaN        NaN  \n",
       "4        21.55     17.550  \n",
       "\n",
       "[5 rows x 66 columns]"
      ]
     },
     "execution_count": 51,
     "metadata": {},
     "output_type": "execute_result"
    }
   ],
   "source": [
    "data_labelled = pd.read_csv(\"data/data_labelled.csv\")\n",
    "\n",
    "features = data_labelled.drop([\"Species\", \"Vulnerability\", \"Red List status\", \"Genus\", \n",
    "                               \"Family\", \"Order\", \"Class\", \"Unnamed: 0\", \"Speccode\"], axis = 1)\n",
    "\n",
    "features[\"Area\"].replace(0, np.nan, inplace=True)\n",
    "\n",
    "features_bin = pd.get_dummies(features, columns=[])\n",
    "features_bin = features_bin.drop(\"Imp_ \", axis = 1)\n",
    "\n",
    "features_bin.head()"
   ]
  },
  {
   "cell_type": "code",
   "execution_count": 52,
   "metadata": {
    "slideshow": {
     "slide_type": "subslide"
    }
   },
   "outputs": [
    {
     "data": {
      "text/html": [
       "<div>\n",
       "<style scoped>\n",
       "    .dataframe tbody tr th:only-of-type {\n",
       "        vertical-align: middle;\n",
       "    }\n",
       "\n",
       "    .dataframe tbody tr th {\n",
       "        vertical-align: top;\n",
       "    }\n",
       "\n",
       "    .dataframe thead th {\n",
       "        text-align: right;\n",
       "    }\n",
       "</style>\n",
       "<table border=\"1\" class=\"dataframe\">\n",
       "  <thead>\n",
       "    <tr style=\"text-align: right;\">\n",
       "      <th></th>\n",
       "      <th>Length</th>\n",
       "      <th>Weight</th>\n",
       "      <th>DietTLu</th>\n",
       "      <th>Area</th>\n",
       "      <th>AverageDepth</th>\n",
       "      <th>TempSurface</th>\n",
       "      <th>TempDepth</th>\n",
       "      <th>Age_Maturity</th>\n",
       "      <th>Length_Maturity</th>\n",
       "      <th>GameFish</th>\n",
       "      <th>...</th>\n",
       "      <th>Lakes</th>\n",
       "      <th>Cave</th>\n",
       "      <th>freshwater</th>\n",
       "      <th>saltwater</th>\n",
       "      <th>brackish</th>\n",
       "      <th>tropical</th>\n",
       "      <th>subtropical</th>\n",
       "      <th>polar</th>\n",
       "      <th>temperate</th>\n",
       "      <th>boreal</th>\n",
       "    </tr>\n",
       "  </thead>\n",
       "  <tbody>\n",
       "    <tr>\n",
       "      <th>0</th>\n",
       "      <td>-0.139854</td>\n",
       "      <td>NaN</td>\n",
       "      <td>-0.455351</td>\n",
       "      <td>NaN</td>\n",
       "      <td>NaN</td>\n",
       "      <td>NaN</td>\n",
       "      <td>NaN</td>\n",
       "      <td>NaN</td>\n",
       "      <td>NaN</td>\n",
       "      <td>0.0</td>\n",
       "      <td>...</td>\n",
       "      <td>0.0</td>\n",
       "      <td>0.0</td>\n",
       "      <td>1.0</td>\n",
       "      <td>1.0</td>\n",
       "      <td>0.0</td>\n",
       "      <td>1.0</td>\n",
       "      <td>0.0</td>\n",
       "      <td>0.0</td>\n",
       "      <td>0.0</td>\n",
       "      <td>0.0</td>\n",
       "    </tr>\n",
       "    <tr>\n",
       "      <th>1</th>\n",
       "      <td>0.017366</td>\n",
       "      <td>NaN</td>\n",
       "      <td>-0.455351</td>\n",
       "      <td>NaN</td>\n",
       "      <td>NaN</td>\n",
       "      <td>NaN</td>\n",
       "      <td>NaN</td>\n",
       "      <td>NaN</td>\n",
       "      <td>NaN</td>\n",
       "      <td>0.0</td>\n",
       "      <td>...</td>\n",
       "      <td>0.0</td>\n",
       "      <td>0.0</td>\n",
       "      <td>0.0</td>\n",
       "      <td>0.0</td>\n",
       "      <td>0.0</td>\n",
       "      <td>1.0</td>\n",
       "      <td>0.0</td>\n",
       "      <td>0.0</td>\n",
       "      <td>0.0</td>\n",
       "      <td>0.0</td>\n",
       "    </tr>\n",
       "    <tr>\n",
       "      <th>2</th>\n",
       "      <td>0.226993</td>\n",
       "      <td>NaN</td>\n",
       "      <td>-0.455351</td>\n",
       "      <td>1.052117</td>\n",
       "      <td>0.489980</td>\n",
       "      <td>0.009435</td>\n",
       "      <td>0.154410</td>\n",
       "      <td>NaN</td>\n",
       "      <td>NaN</td>\n",
       "      <td>0.0</td>\n",
       "      <td>...</td>\n",
       "      <td>0.0</td>\n",
       "      <td>0.0</td>\n",
       "      <td>1.0</td>\n",
       "      <td>0.0</td>\n",
       "      <td>0.0</td>\n",
       "      <td>1.0</td>\n",
       "      <td>0.0</td>\n",
       "      <td>0.0</td>\n",
       "      <td>0.0</td>\n",
       "      <td>0.0</td>\n",
       "    </tr>\n",
       "    <tr>\n",
       "      <th>3</th>\n",
       "      <td>NaN</td>\n",
       "      <td>NaN</td>\n",
       "      <td>NaN</td>\n",
       "      <td>NaN</td>\n",
       "      <td>NaN</td>\n",
       "      <td>NaN</td>\n",
       "      <td>NaN</td>\n",
       "      <td>NaN</td>\n",
       "      <td>NaN</td>\n",
       "      <td>0.0</td>\n",
       "      <td>...</td>\n",
       "      <td>NaN</td>\n",
       "      <td>NaN</td>\n",
       "      <td>NaN</td>\n",
       "      <td>NaN</td>\n",
       "      <td>NaN</td>\n",
       "      <td>NaN</td>\n",
       "      <td>NaN</td>\n",
       "      <td>NaN</td>\n",
       "      <td>NaN</td>\n",
       "      <td>NaN</td>\n",
       "    </tr>\n",
       "    <tr>\n",
       "      <th>4</th>\n",
       "      <td>0.314337</td>\n",
       "      <td>NaN</td>\n",
       "      <td>-0.455351</td>\n",
       "      <td>-0.493121</td>\n",
       "      <td>-0.090207</td>\n",
       "      <td>0.308765</td>\n",
       "      <td>0.197353</td>\n",
       "      <td>NaN</td>\n",
       "      <td>NaN</td>\n",
       "      <td>0.0</td>\n",
       "      <td>...</td>\n",
       "      <td>0.0</td>\n",
       "      <td>0.0</td>\n",
       "      <td>1.0</td>\n",
       "      <td>0.0</td>\n",
       "      <td>0.0</td>\n",
       "      <td>1.0</td>\n",
       "      <td>0.0</td>\n",
       "      <td>0.0</td>\n",
       "      <td>0.0</td>\n",
       "      <td>0.0</td>\n",
       "    </tr>\n",
       "  </tbody>\n",
       "</table>\n",
       "<p>5 rows × 66 columns</p>\n",
       "</div>"
      ],
      "text/plain": [
       "     Length  Weight   DietTLu      Area  AverageDepth  TempSurface  TempDepth  \\\n",
       "0 -0.139854     NaN -0.455351       NaN           NaN          NaN        NaN   \n",
       "1  0.017366     NaN -0.455351       NaN           NaN          NaN        NaN   \n",
       "2  0.226993     NaN -0.455351  1.052117      0.489980     0.009435   0.154410   \n",
       "3       NaN     NaN       NaN       NaN           NaN          NaN        NaN   \n",
       "4  0.314337     NaN -0.455351 -0.493121     -0.090207     0.308765   0.197353   \n",
       "\n",
       "   Age_Maturity  Length_Maturity  GameFish  ...  Lakes  Cave  freshwater  \\\n",
       "0           NaN              NaN       0.0  ...    0.0   0.0         1.0   \n",
       "1           NaN              NaN       0.0  ...    0.0   0.0         0.0   \n",
       "2           NaN              NaN       0.0  ...    0.0   0.0         1.0   \n",
       "3           NaN              NaN       0.0  ...    NaN   NaN         NaN   \n",
       "4           NaN              NaN       0.0  ...    0.0   0.0         1.0   \n",
       "\n",
       "   saltwater  brackish  tropical  subtropical  polar  temperate  boreal  \n",
       "0        1.0       0.0       1.0          0.0    0.0        0.0     0.0  \n",
       "1        0.0       0.0       1.0          0.0    0.0        0.0     0.0  \n",
       "2        0.0       0.0       1.0          0.0    0.0        0.0     0.0  \n",
       "3        NaN       NaN       NaN          NaN    NaN        NaN     NaN  \n",
       "4        0.0       0.0       1.0          0.0    0.0        0.0     0.0  \n",
       "\n",
       "[5 rows x 66 columns]"
      ]
     },
     "execution_count": 52,
     "metadata": {},
     "output_type": "execute_result"
    }
   ],
   "source": [
    "scaler = StandardScaler()\n",
    "\n",
    "# Standardizing quantitative columns\n",
    "quantcols = ['Length', 'Weight','DietTLu','Area','AverageDepth','TempSurface','TempDepth', 'Age_Maturity', 'Length_Maturity']\n",
    "quant_std = pd.DataFrame(scaler.fit_transform(features_bin[quantcols]),\n",
    "                           columns = quantcols)\n",
    "\n",
    "# Standardized dataset (lots of NA's!)\n",
    "features_std = pd.concat([quant_std, features_bin.drop(quantcols, axis = 1)], axis = 1)\n",
    "features_std.head()"
   ]
  },
  {
   "cell_type": "code",
   "execution_count": 53,
   "metadata": {
    "slideshow": {
     "slide_type": "skip"
    }
   },
   "outputs": [],
   "source": [
    "x_full = features_std # Standardized predictors\n",
    "y_full = data_labelled[\"Red List status\"] == \"LC\" * 1 # Classes - whether \"Least Concern\" or not \n",
    "y_full = 1 - y_full"
   ]
  },
  {
   "cell_type": "code",
   "execution_count": 54,
   "metadata": {
    "slideshow": {
     "slide_type": "skip"
    }
   },
   "outputs": [],
   "source": [
    "params = {\n",
    "        'min_child_weight': [1, 5, 10],\n",
    "        'gamma': [0.5, 1, 1.5, 2, 5],\n",
    "        'subsample': [0.6, 0.8, 1.0],\n",
    "        'colsample_bytree': [0.6, 0.8, 1.0],\n",
    "        'max_depth': [3, 4, 5, 8, 10, 20],\n",
    "        'n_estimators': [100,200,300,500,600,800,1000]\n",
    "        }\n",
    "\n",
    "xgb_classifier = XGBRFClassifier(learning_rate=0.02,\n",
    "                    objective='binary:logistic',\n",
    "                    silent=True, \n",
    "                    nthread=1)\n",
    "\n",
    "folds = 5\n",
    "param_comb = 25\n",
    "\n",
    "skf = StratifiedKFold(n_splits=folds, shuffle = True, random_state = 0)"
   ]
  },
  {
   "cell_type": "code",
   "execution_count": 55,
   "metadata": {
    "scrolled": true,
    "slideshow": {
     "slide_type": "subslide"
    }
   },
   "outputs": [
    {
     "name": "stdout",
     "output_type": "stream",
     "text": [
      "Fitting 5 folds for each of 25 candidates, totalling 125 fits\n"
     ]
    },
    {
     "name": "stderr",
     "output_type": "stream",
     "text": [
      "[Parallel(n_jobs=4)]: Using backend LokyBackend with 4 concurrent workers.\n",
      "[Parallel(n_jobs=4)]: Done  24 tasks      | elapsed:  2.3min\n",
      "[Parallel(n_jobs=4)]: Done 125 out of 125 | elapsed: 15.5min finished\n"
     ]
    },
    {
     "data": {
      "text/plain": [
       "0.7748572963653969"
      ]
     },
     "execution_count": 55,
     "metadata": {},
     "output_type": "execute_result"
    }
   ],
   "source": [
    "# Initializing cross-validation search\n",
    "random_search = RandomizedSearchCV(xgb_classifier, param_distributions=params, \n",
    "                                   n_iter=param_comb, scoring='accuracy', n_jobs=4, \n",
    "                                   cv=skf.split(x_full,y_full), verbose=3, random_state=0)\n",
    "\n",
    "# Running randomized CV search\n",
    "random_search.fit(x_full, y_full)\n",
    "\n",
    "random_search.best_score_"
   ]
  },
  {
   "cell_type": "code",
   "execution_count": 56,
   "metadata": {
    "slideshow": {
     "slide_type": "skip"
    }
   },
   "outputs": [],
   "source": [
    "tprs = []\n",
    "aucs = []\n",
    "mean_fpr = np.linspace(0, 1, 100)\n",
    "x_full = x_full.to_numpy()\n",
    "\n",
    "bestmod_1 = copy.copy(random_search.best_estimator_)"
   ]
  },
  {
   "cell_type": "code",
   "execution_count": 57,
   "metadata": {
    "scrolled": true,
    "slideshow": {
     "slide_type": "subslide"
    }
   },
   "outputs": [
    {
     "data": {
      "text/plain": [
       "[<matplotlib.lines.Line2D at 0x1acb96ef1c8>]"
      ]
     },
     "execution_count": 57,
     "metadata": {},
     "output_type": "execute_result"
    },
    {
     "data": {
      "image/png": "[encoded data removed]",
      "text/plain": [
       "<Figure size 432x288 with 1 Axes>"
      ]
     },
     "metadata": {
      "needs_background": "light"
     },
     "output_type": "display_data"
    }
   ],
   "source": [
    "fig, ax = plt.subplots()\n",
    "for i, (train, test) in enumerate(skf.split(x_full,y_full)):\n",
    "    bestmod_1.fit(x_full[train], y_full[train])\n",
    "    viz = plot_roc_curve(bestmod_1, x_full[test], y_full[test],\n",
    "                         name='ROC fold {}'.format(i),\n",
    "                         alpha=0.3, lw=1, ax=ax)\n",
    "    interp_tpr = np.interp(mean_fpr, viz.fpr, viz.tpr)\n",
    "    interp_tpr[0] = 0.0\n",
    "    tprs.append(interp_tpr)\n",
    "    aucs.append(viz.roc_auc)\n",
    "    \n",
    "mean_tpr = np.mean(tprs, axis=0)\n",
    "mean_tpr[-1] = 1.0\n",
    "mean_auc = auc(mean_fpr, mean_tpr)\n",
    "std_auc = np.std(aucs)\n",
    "ax.plot(mean_fpr, mean_tpr, color='b',\n",
    "        label=r'Mean ROC (AUC = %0.2f $\\pm$ %0.2f)' % (mean_auc, std_auc),\n",
    "        lw=2, alpha=.8)"
   ]
  },
  {
   "cell_type": "code",
   "execution_count": 61,
   "metadata": {
    "slideshow": {
     "slide_type": "subslide"
    }
   },
   "outputs": [
    {
     "data": {
      "image/png": "[encoded data removed]",
      "text/plain": [
       "<Figure size 432x288 with 1 Axes>"
      ]
     },
     "metadata": {
      "needs_background": "light"
     },
     "output_type": "display_data"
    }
   ],
   "source": [
    "prec = []\n",
    "rec = []\n",
    "mean_prec = np.linspace(0, 1, 100)\n",
    "fig, ax = plt.subplots()\n",
    "for i, (train, test) in enumerate(skf.split(x_full,y_full)):\n",
    "    bestmod_1.fit(x_full[train], y_full[train])\n",
    "    viz = plot_precision_recall_curve(bestmod_1, x_full[test], y_full[test],\n",
    "                         name='P-R fold {}'.format(i),\n",
    "                         alpha=0.3, lw=1, ax=ax)\n",
    "    interp_tpr = np.interp(mean_prec, viz.precision, viz.recall)\n",
    "    interp_tpr[0] = 0.0\n",
    "    tprs.append(interp_tpr)"
   ]
  },
  {
   "cell_type": "markdown",
   "metadata": {
    "slideshow": {
     "slide_type": "slide"
    }
   },
   "source": [
    "### 3. Imputing Missing Features"
   ]
  },
  {
   "cell_type": "markdown",
   "metadata": {
    "slideshow": {
     "slide_type": "subslide"
    }
   },
   "source": [
    "Ideally, imputation could be constructed using phylogenetic information from different species -- the genetic relationships that describe how similar species are to one another on an evolutionary scale. Given the scope of this dataset, however, a full *time-calibrated phylogeny of all fish species* is not available. \n",
    "\n",
    "However, many features are predictive of one another. Larger fish, for example, are likely to have longer times to maturity and slower reproductive rates. Approches like K-Nearest Neighbors or Random Forest based imputation are known to be [effective imputers for species trait data](https://besjournals.onlinelibrary.wiley.com/doi/10.1111/2041-210X.12232) in certain circumstances."
   ]
  },
  {
   "cell_type": "code",
   "execution_count": 22,
   "metadata": {
    "scrolled": false,
    "slideshow": {
     "slide_type": "subslide"
    }
   },
   "outputs": [],
   "source": [
    "# imputer = IterativeImputer(estimator = KNeighborsRegressor(n_neighbors=5), \n",
    "#                            add_indicator=True)\n",
    "\n",
    "# data_imputed = imputer.fit_transform(features_std)"
   ]
  },
  {
   "cell_type": "code",
   "execution_count": 23,
   "metadata": {
    "slideshow": {
     "slide_type": "subslide"
    }
   },
   "outputs": [],
   "source": [
    "# imputed_cols = features_std.columns.append(features_std.columns[features_std.isnull().any()] + \"Missing\")\n",
    "# data_imputed = pd.DataFrame(data_imputed, columns = imputed_cols)\n",
    "# data_imputed.to_csv(\"data/imputed_features.csv\")"
   ]
  },
  {
   "cell_type": "code",
   "execution_count": 24,
   "metadata": {
    "slideshow": {
     "slide_type": "subslide"
    }
   },
   "outputs": [
    {
     "data": {
      "text/html": [
       "<div>\n",
       "<style scoped>\n",
       "    .dataframe tbody tr th:only-of-type {\n",
       "        vertical-align: middle;\n",
       "    }\n",
       "\n",
       "    .dataframe tbody tr th {\n",
       "        vertical-align: top;\n",
       "    }\n",
       "\n",
       "    .dataframe thead th {\n",
       "        text-align: right;\n",
       "    }\n",
       "</style>\n",
       "<table border=\"1\" class=\"dataframe\">\n",
       "  <thead>\n",
       "    <tr style=\"text-align: right;\">\n",
       "      <th></th>\n",
       "      <th>Unnamed: 0</th>\n",
       "      <th>Length</th>\n",
       "      <th>Weight</th>\n",
       "      <th>DietTLu</th>\n",
       "      <th>Area</th>\n",
       "      <th>AverageDepth</th>\n",
       "      <th>TempSurface</th>\n",
       "      <th>TempDepth</th>\n",
       "      <th>Age_Maturity</th>\n",
       "      <th>Length_Maturity</th>\n",
       "      <th>...</th>\n",
       "      <th>LakesMissing</th>\n",
       "      <th>CaveMissing</th>\n",
       "      <th>freshwaterMissing</th>\n",
       "      <th>saltwaterMissing</th>\n",
       "      <th>brackishMissing</th>\n",
       "      <th>tropicalMissing</th>\n",
       "      <th>subtropicalMissing</th>\n",
       "      <th>polarMissing</th>\n",
       "      <th>temperateMissing</th>\n",
       "      <th>borealMissing</th>\n",
       "    </tr>\n",
       "  </thead>\n",
       "  <tbody>\n",
       "    <tr>\n",
       "      <th>0</th>\n",
       "      <td>0</td>\n",
       "      <td>-0.139854</td>\n",
       "      <td>-0.068625</td>\n",
       "      <td>-0.455351</td>\n",
       "      <td>0.492794</td>\n",
       "      <td>0.420358</td>\n",
       "      <td>0.803895</td>\n",
       "      <td>1.040876</td>\n",
       "      <td>-0.638508</td>\n",
       "      <td>-0.527541</td>\n",
       "      <td>...</td>\n",
       "      <td>0.0</td>\n",
       "      <td>0.0</td>\n",
       "      <td>0.0</td>\n",
       "      <td>0.0</td>\n",
       "      <td>0.0</td>\n",
       "      <td>0.0</td>\n",
       "      <td>0.0</td>\n",
       "      <td>0.0</td>\n",
       "      <td>0.0</td>\n",
       "      <td>0.0</td>\n",
       "    </tr>\n",
       "    <tr>\n",
       "      <th>1</th>\n",
       "      <td>1</td>\n",
       "      <td>0.017366</td>\n",
       "      <td>-0.068981</td>\n",
       "      <td>-0.455351</td>\n",
       "      <td>-0.726752</td>\n",
       "      <td>0.188283</td>\n",
       "      <td>0.107216</td>\n",
       "      <td>0.042759</td>\n",
       "      <td>-0.638293</td>\n",
       "      <td>-0.462761</td>\n",
       "      <td>...</td>\n",
       "      <td>0.0</td>\n",
       "      <td>0.0</td>\n",
       "      <td>0.0</td>\n",
       "      <td>0.0</td>\n",
       "      <td>0.0</td>\n",
       "      <td>0.0</td>\n",
       "      <td>0.0</td>\n",
       "      <td>0.0</td>\n",
       "      <td>0.0</td>\n",
       "      <td>0.0</td>\n",
       "    </tr>\n",
       "    <tr>\n",
       "      <th>2</th>\n",
       "      <td>2</td>\n",
       "      <td>0.226993</td>\n",
       "      <td>-0.066908</td>\n",
       "      <td>-0.455351</td>\n",
       "      <td>1.052117</td>\n",
       "      <td>0.489980</td>\n",
       "      <td>0.009435</td>\n",
       "      <td>0.154410</td>\n",
       "      <td>-0.418321</td>\n",
       "      <td>-0.335671</td>\n",
       "      <td>...</td>\n",
       "      <td>0.0</td>\n",
       "      <td>0.0</td>\n",
       "      <td>0.0</td>\n",
       "      <td>0.0</td>\n",
       "      <td>0.0</td>\n",
       "      <td>0.0</td>\n",
       "      <td>0.0</td>\n",
       "      <td>0.0</td>\n",
       "      <td>0.0</td>\n",
       "      <td>0.0</td>\n",
       "    </tr>\n",
       "    <tr>\n",
       "      <th>3</th>\n",
       "      <td>3</td>\n",
       "      <td>-0.509042</td>\n",
       "      <td>-0.069449</td>\n",
       "      <td>-0.455351</td>\n",
       "      <td>-1.291229</td>\n",
       "      <td>-4.194679</td>\n",
       "      <td>-0.469493</td>\n",
       "      <td>-1.512993</td>\n",
       "      <td>-0.434417</td>\n",
       "      <td>-0.693165</td>\n",
       "      <td>...</td>\n",
       "      <td>1.0</td>\n",
       "      <td>1.0</td>\n",
       "      <td>1.0</td>\n",
       "      <td>1.0</td>\n",
       "      <td>1.0</td>\n",
       "      <td>1.0</td>\n",
       "      <td>1.0</td>\n",
       "      <td>1.0</td>\n",
       "      <td>1.0</td>\n",
       "      <td>1.0</td>\n",
       "    </tr>\n",
       "    <tr>\n",
       "      <th>4</th>\n",
       "      <td>4</td>\n",
       "      <td>0.314337</td>\n",
       "      <td>-0.065984</td>\n",
       "      <td>-0.455351</td>\n",
       "      <td>-0.493121</td>\n",
       "      <td>-0.090207</td>\n",
       "      <td>0.308765</td>\n",
       "      <td>0.197353</td>\n",
       "      <td>-0.638508</td>\n",
       "      <td>-0.367560</td>\n",
       "      <td>...</td>\n",
       "      <td>0.0</td>\n",
       "      <td>0.0</td>\n",
       "      <td>0.0</td>\n",
       "      <td>0.0</td>\n",
       "      <td>0.0</td>\n",
       "      <td>0.0</td>\n",
       "      <td>0.0</td>\n",
       "      <td>0.0</td>\n",
       "      <td>0.0</td>\n",
       "      <td>0.0</td>\n",
       "    </tr>\n",
       "  </tbody>\n",
       "</table>\n",
       "<p>5 rows × 105 columns</p>\n",
       "</div>"
      ],
      "text/plain": [
       "   Unnamed: 0    Length    Weight   DietTLu      Area  AverageDepth  \\\n",
       "0           0 -0.139854 -0.068625 -0.455351  0.492794      0.420358   \n",
       "1           1  0.017366 -0.068981 -0.455351 -0.726752      0.188283   \n",
       "2           2  0.226993 -0.066908 -0.455351  1.052117      0.489980   \n",
       "3           3 -0.509042 -0.069449 -0.455351 -1.291229     -4.194679   \n",
       "4           4  0.314337 -0.065984 -0.455351 -0.493121     -0.090207   \n",
       "\n",
       "   TempSurface  TempDepth  Age_Maturity  Length_Maturity  ...  LakesMissing  \\\n",
       "0     0.803895   1.040876     -0.638508        -0.527541  ...           0.0   \n",
       "1     0.107216   0.042759     -0.638293        -0.462761  ...           0.0   \n",
       "2     0.009435   0.154410     -0.418321        -0.335671  ...           0.0   \n",
       "3    -0.469493  -1.512993     -0.434417        -0.693165  ...           1.0   \n",
       "4     0.308765   0.197353     -0.638508        -0.367560  ...           0.0   \n",
       "\n",
       "   CaveMissing  freshwaterMissing  saltwaterMissing  brackishMissing  \\\n",
       "0          0.0                0.0               0.0              0.0   \n",
       "1          0.0                0.0               0.0              0.0   \n",
       "2          0.0                0.0               0.0              0.0   \n",
       "3          1.0                1.0               1.0              1.0   \n",
       "4          0.0                0.0               0.0              0.0   \n",
       "\n",
       "   tropicalMissing  subtropicalMissing  polarMissing  temperateMissing  \\\n",
       "0              0.0                 0.0           0.0               0.0   \n",
       "1              0.0                 0.0           0.0               0.0   \n",
       "2              0.0                 0.0           0.0               0.0   \n",
       "3              1.0                 1.0           1.0               1.0   \n",
       "4              0.0                 0.0           0.0               0.0   \n",
       "\n",
       "   borealMissing  \n",
       "0            0.0  \n",
       "1            0.0  \n",
       "2            0.0  \n",
       "3            1.0  \n",
       "4            0.0  \n",
       "\n",
       "[5 rows x 105 columns]"
      ]
     },
     "execution_count": 24,
     "metadata": {},
     "output_type": "execute_result"
    }
   ],
   "source": [
    "pd.read_csv('data/imputed_features.csv').head()"
   ]
  },
  {
   "cell_type": "markdown",
   "metadata": {
    "slideshow": {
     "slide_type": "slide"
    }
   },
   "source": [
    "### 4. Binary Classification - Imputed Data"
   ]
  },
  {
   "cell_type": "code",
   "execution_count": 62,
   "metadata": {
    "scrolled": true,
    "slideshow": {
     "slide_type": "subslide"
    }
   },
   "outputs": [
    {
     "name": "stdout",
     "output_type": "stream",
     "text": [
      "Fitting 5 folds for each of 25 candidates, totalling 125 fits\n"
     ]
    },
    {
     "name": "stderr",
     "output_type": "stream",
     "text": [
      "[Parallel(n_jobs=4)]: Using backend LokyBackend with 4 concurrent workers.\n",
      "[Parallel(n_jobs=4)]: Done  24 tasks      | elapsed:  2.7min\n",
      "[Parallel(n_jobs=4)]: Done 125 out of 125 | elapsed: 21.1min finished\n"
     ]
    },
    {
     "data": {
      "text/plain": [
       "0.783114033016083"
      ]
     },
     "execution_count": 62,
     "metadata": {},
     "output_type": "execute_result"
    }
   ],
   "source": [
    "x_full = pd.read_csv('data/imputed_features.csv') # Standardized predictors\n",
    "y_full = data_labelled[\"Red List status\"] == \"LC\" * 1 # Classes - whether \"Least Concern\" or not \n",
    "y_full = 1 - y_full \n",
    "\n",
    "# Initializing cross-validation search\n",
    "random_search = RandomizedSearchCV(xgb_classifier, param_distributions=params, \n",
    "                                   n_iter=param_comb, scoring='accuracy', n_jobs=4, \n",
    "                                   cv=skf.split(x_full,y_full), verbose=3, random_state=0)\n",
    "\n",
    "# Running randomized CV search\n",
    "random_search.fit(x_full, y_full)\n",
    "\n",
    "random_search.best_score_"
   ]
  },
  {
   "cell_type": "code",
   "execution_count": 63,
   "metadata": {
    "slideshow": {
     "slide_type": "skip"
    }
   },
   "outputs": [],
   "source": [
    "tprs = []\n",
    "aucs = []\n",
    "mean_fpr = np.linspace(0, 1, 100)\n",
    "x_full = x_full.to_numpy()\n",
    "\n",
    "bestmod_2 = copy.copy(random_search.best_estimator_)"
   ]
  },
  {
   "cell_type": "code",
   "execution_count": 65,
   "metadata": {
    "scrolled": true,
    "slideshow": {
     "slide_type": "subslide"
    }
   },
   "outputs": [
    {
     "data": {
      "text/plain": [
       "[<matplotlib.lines.Line2D at 0x1ac846f5908>]"
      ]
     },
     "execution_count": 65,
     "metadata": {},
     "output_type": "execute_result"
    },
    {
     "data": {
      "image/png": "[encoded data removed]",
      "text/plain": [
       "<Figure size 432x288 with 1 Axes>"
      ]
     },
     "metadata": {
      "needs_background": "light"
     },
     "output_type": "display_data"
    }
   ],
   "source": [
    "fig, ax = plt.subplots()\n",
    "for i, (train, test) in enumerate(skf.split(x_full,y_full)):\n",
    "    bestmod_2.fit(x_full[train], y_full[train])\n",
    "    viz = plot_roc_curve(bestmod_2, x_full[test], y_full[test],\n",
    "                         name='ROC fold {}'.format(i),\n",
    "                         alpha=0.3, lw=1, ax=ax)\n",
    "    interp_tpr = np.interp(mean_fpr, viz.fpr, viz.tpr)\n",
    "    interp_tpr[0] = 0.0\n",
    "    tprs.append(interp_tpr)\n",
    "    aucs.append(viz.roc_auc)\n",
    "mean_tpr = np.mean(tprs, axis=0)\n",
    "mean_tpr[-1] = 1.0\n",
    "mean_auc = auc(mean_fpr, mean_tpr)\n",
    "std_auc = np.std(aucs)\n",
    "\n",
    "ax.plot(mean_fpr, mean_tpr, color='b',\n",
    "        label=r'Mean ROC (AUC = %0.2f $\\pm$ %0.2f)' % (mean_auc, std_auc),\n",
    "        lw=2, alpha=.8)"
   ]
  },
  {
   "cell_type": "code",
   "execution_count": 66,
   "metadata": {
    "slideshow": {
     "slide_type": "subslide"
    }
   },
   "outputs": [
    {
     "data": {
      "image/png": "[encoded data removed]",
      "text/plain": [
       "<Figure size 432x288 with 1 Axes>"
      ]
     },
     "metadata": {
      "needs_background": "light"
     },
     "output_type": "display_data"
    }
   ],
   "source": [
    "prec = []\n",
    "rec = []\n",
    "mean_prec = np.linspace(0, 1, 100)\n",
    "fig, ax = plt.subplots()\n",
    "for i, (train, test) in enumerate(skf.split(x_full,y_full)):\n",
    "    bestmod_2.fit(x_full[train], y_full[train])\n",
    "    viz = plot_precision_recall_curve(bestmod_2, x_full[test], y_full[test],\n",
    "                         name='P-R fold {}'.format(i),\n",
    "                         alpha=0.3, lw=1, ax=ax)\n",
    "    interp_tpr = np.interp(mean_prec, viz.precision, viz.recall)\n",
    "    interp_tpr[0] = 0.0\n",
    "    tprs.append(interp_tpr)"
   ]
  },
  {
   "cell_type": "code",
   "execution_count": 67,
   "metadata": {
    "slideshow": {
     "slide_type": "subslide"
    }
   },
   "outputs": [
    {
     "data": {
      "image/png": "[encoded data removed]",
      "text/plain": [
       "<Figure size 640x480 with 1 Axes>"
      ]
     },
     "metadata": {},
     "output_type": "display_data"
    },
    {
     "data": {
      "text/plain": [
       "<ggplot: (-9223371921825499340)>"
      ]
     },
     "execution_count": 67,
     "metadata": {},
     "output_type": "execute_result"
    }
   ],
   "source": [
    "imputed_cols = features_std.columns.append(features_std.columns[features_std.isnull().any()] + \"Missing\")\n",
    "var_imp = pd.concat([pd.Series(bestmod_2.feature_importances_),\n",
    "             pd.Series(imputed_cols)],axis = 1)\n",
    "var_imp.columns=[\"importance\", \"variable\"]\n",
    "var_imp.sort_values('importance')\n",
    "\n",
    "(ggplot(aes(y = 'importance',\n",
    "            x = 'variable'),\n",
    "       (var_imp.iloc[:-40,].sort_values('importance', ascending=False))[:15]) +\n",
    " geom_bar(stat = \"identity\") +\n",
    " coord_flip())"
   ]
  },
  {
   "cell_type": "markdown",
   "metadata": {
    "slideshow": {
     "slide_type": "slide"
    }
   },
   "source": [
    "### 5. Ordinal Classification - Conservation Status as a pseudo-numeric scale\n",
    "\n",
    "The key next step in this project is to adapt an ordinal classification method to this data. Several approaches seem possible.\n",
    "\n",
    "* One approach is to adapt our learning objective to a binary classifier, like SVM, by decomposing ordinal classes into a series of sequential tasks:\n",
    "\n",
    "* $P(y_i = LC) = 1 - P(y_i > LC)$ \n",
    "* $P(y_i = NT) = P(y_i > LC) - P(y_i > NT)$ \n",
    "\n",
    "$\\dots$\n",
    "* $P(y_i = CR) = P(y_i > CR)$\n",
    "\n",
    "Assigned classes can be generated by the maximum probability for each label.\n",
    "\n",
    "* Other options include using existing ordinal regression libraries, such as `mord`, that include implementations of different ordinal regression algorithms."
   ]
  }
 ],
 "metadata": {
  "celltoolbar": "Slideshow",
  "kernelspec": {
   "display_name": "Python 3",
   "language": "python",
   "name": "python3"
  },
  "language_info": {
   "codemirror_mode": {
    "name": "ipython",
    "version": 3
   },
   "file_extension": ".py",
   "mimetype": "text/x-python",
   "name": "python",
   "nbconvert_exporter": "python",
   "pygments_lexer": "ipython3",
   "version": "3.7.7"
  }
 },
 "nbformat": 4,
 "nbformat_minor": 4
}
