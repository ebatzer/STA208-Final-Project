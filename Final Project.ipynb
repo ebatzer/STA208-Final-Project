{
 "cells": [
  {
   "cell_type": "markdown",
   "metadata": {},
   "source": [
    "# STA208 Final Project\n",
    "\n",
    "## Predicting Marine Organism Conservation Status\n",
    "\n",
    "_________________\n",
    "__Author:__ Evan Batzer \n",
    "\n",
    "__Date:__ 5/26/2020"
   ]
  },
  {
   "cell_type": "markdown",
   "metadata": {},
   "source": [
    "### 0. Background"
   ]
  },
  {
   "cell_type": "markdown",
   "metadata": {},
   "source": [
    "### 1. Assemblying Dataset"
   ]
  },
  {
   "cell_type": "markdown",
   "metadata": {},
   "source": [
    "#### 1.1 Querying FishBase API\n",
    "\n",
    "FishBase is a centralized database "
   ]
  },
  {
   "cell_type": "code",
   "execution_count": 1,
   "metadata": {},
   "outputs": [],
   "source": [
    "import requests\n",
    "import pandas as pd\n",
    "import numpy as np\n",
    "from os import path\n",
    "from plotnine import *\n",
    "from sklearn.preprocessing import OneHotEncoder\n",
    "\n",
    "def extract_fishbase(table):\n",
    "    \n",
    "    tablename = \"https://fishbase.ropensci.org/\" + table\n",
    "    query = requests.get(tablename + \"?limit=5000\")\n",
    "    n_obs = query.json()['count']\n",
    "    df = pd.DataFrame(query.json()['data'])\n",
    "\n",
    "    while(df.shape[0] < n_obs):\n",
    "        query = requests.get(tablename + \"?limit=5000&offset=\" + str(df.shape[0]))\n",
    "        tempdf = pd.DataFrame(query.json()['data'])\n",
    "        df = df.append(tempdf)\n",
    "        \n",
    "    print(\"Table ''%s' - Returned %s rows of %s features\" % (table, df.shape[0], df.shape[1]))  \n",
    "    return(df)"
   ]
  },
  {
   "cell_type": "code",
   "execution_count": 2,
   "metadata": {
    "scrolled": true
   },
   "outputs": [
    {
     "name": "stdout",
     "output_type": "stream",
     "text": [
      "Table ''taxa' - Returned 34342 rows of 14 features\n",
      "Table ''species' - Returned 34342 rows of 102 features\n",
      "Table ''ecology' - Returned 11897 rows of 142 features\n",
      "Table ''ecosystem' - Returned 151869 rows of 47 features\n",
      "Table ''maturity' - Returned 8733 rows of 35 features\n"
     ]
    }
   ],
   "source": [
    "# All available species\n",
    "taxaTable = extract_fishbase(\"taxa\")\n",
    "\n",
    "# General species characteristics\n",
    "speciesTable = extract_fishbase(\"species\")\n",
    "\n",
    "# Species ecology (habitat type, prey, etc.)\n",
    "ecologyTable = extract_fishbase(\"ecology\")\n",
    "\n",
    "# Ecosystem characteristics\n",
    "ecosystemTable = extract_fishbase(\"ecosystem\")\n",
    "\n",
    "# Maturity / reproduction\n",
    "reproTable = extract_fishbase(\"maturity\")"
   ]
  },
  {
   "cell_type": "markdown",
   "metadata": {},
   "source": [
    "__Aggregating the ecosystem table:__ \n",
    "\n",
    "Rather than containing information on a species-by-species basis, the ecosystem table contains features that are organized by different habitats. Because models will be constructed at the species level (not subspecies or individual habitat), I aggregate these based on metric. Certain features are binary (present in freshwater/saltwater), so are converted to one-hot labels and summed per species -- some fish may be present in both types of water, for example. Others are summed or averaged, such as total range or average depth."
   ]
  },
  {
   "cell_type": "code",
   "execution_count": 3,
   "metadata": {
    "scrolled": true
   },
   "outputs": [
    {
     "name": "stderr",
     "output_type": "stream",
     "text": [
      "C:\\Users\\ebatz\\anaconda3\\lib\\site-packages\\pandas\\core\\frame.py:2963: SettingWithCopyWarning: \n",
      "A value is trying to be set on a copy of a slice from a DataFrame.\n",
      "Try using .loc[row_indexer,col_indexer] = value instead\n",
      "\n",
      "See the caveats in the documentation: https://pandas.pydata.org/pandas-docs/stable/user_guide/indexing.html#returning-a-view-versus-a-copy\n",
      "  self[k1] = value[k2]\n",
      "C:\\Users\\ebatz\\anaconda3\\lib\\site-packages\\ipykernel_launcher.py:9: FutureWarning: Indexing with multiple keys (implicitly converted to a tuple of keys) will be deprecated, use a list instead.\n",
      "  if __name__ == '__main__':\n",
      "C:\\Users\\ebatz\\anaconda3\\lib\\site-packages\\ipykernel_launcher.py:11: SettingWithCopyWarning: \n",
      "A value is trying to be set on a copy of a slice from a DataFrame.\n",
      "Try using .loc[row_indexer,col_indexer] = value instead\n",
      "\n",
      "See the caveats in the documentation: https://pandas.pydata.org/pandas-docs/stable/user_guide/indexing.html#returning-a-view-versus-a-copy\n",
      "  # This is added back by InteractiveShellApp.init_path()\n",
      "C:\\Users\\ebatz\\anaconda3\\lib\\site-packages\\ipykernel_launcher.py:15: SettingWithCopyWarning: \n",
      "A value is trying to be set on a copy of a slice from a DataFrame.\n",
      "Try using .loc[row_indexer,col_indexer] = value instead\n",
      "\n",
      "See the caveats in the documentation: https://pandas.pydata.org/pandas-docs/stable/user_guide/indexing.html#returning-a-view-versus-a-copy\n",
      "  from ipykernel import kernelapp as app\n"
     ]
    }
   ],
   "source": [
    "from sklearn.preprocessing import label_binarize\n",
    "\n",
    "ecosys_cols = [\"Speccode\", \"Salinity\", \"Area\", \"SizeRef\", \"Climate\", \"AverageDepth\", \"MaxDepth\", \"TempSurface\", \"TempDepth\"]\n",
    "\n",
    "ecosys_subset = ecosystemTable[ecosys_cols]\n",
    "\n",
    "area_agg = ecosys_subset.groupby(\"Speccode\")[\"Area\"].sum()\n",
    "ecosys_subset[[\"AverageDepth\", \"TempSurface\", \"TempDepth\"]] = ecosys_subset[[\"AverageDepth\", \"TempSurface\", \"TempDepth\"]].apply(pd.to_numeric, errors='coerce')\n",
    "ATT_agg = ecosys_subset.groupby(\"Speccode\")[\"AverageDepth\", \"TempSurface\", \"TempDepth\"].mean()\n",
    "\n",
    "ecosys_subset[\"Climate\"] = ecosys_subset[\"Climate\"].str.lower().fillna(\"None\")\n",
    "climate_onehot = label_binarize(ecosys_subset[\"Climate\"], classes = ecosys_subset[\"Climate\"].unique()[0:5])\n",
    "climate_agg =  pd.DataFrame(climate_onehot, columns=ecosys_subset[\"Climate\"].unique()[[0,1,2,3,4]])\n",
    "\n",
    "ecosys_subset['Salinity'] = ecosys_subset['Salinity'].str.lower().fillna(\"None\")\n",
    "salinity_onehot = label_binarize(ecosys_subset['Salinity'], classes = ecosys_subset['Salinity'].unique()[0:3])\n",
    "salinity_agg =  pd.DataFrame(salinity_onehot, columns=ecosys_subset['Salinity'].unique()[0:3])\n",
    "\n",
    "cat_full = pd.DataFrame(ecosys_subset[\"Speccode\"]).join([salinity_agg, climate_agg]).groupby('Speccode').sum()\n",
    "cat_full = (cat_full > 1) * 1\n",
    "\n",
    "ecosys_full = cat_full.join([area_agg, ATT_agg])\n",
    "ecosys_full.reset_index(inplace = True)"
   ]
  },
  {
   "cell_type": "markdown",
   "metadata": {},
   "source": [
    "Other tables contain considerable overlap in columns, particularly related to error checking or source material. Here, I subset each table to the relevant set of characteristics from each."
   ]
  },
  {
   "cell_type": "code",
   "execution_count": 23,
   "metadata": {
    "scrolled": false
   },
   "outputs": [
    {
     "name": "stderr",
     "output_type": "stream",
     "text": [
      "C:\\Users\\ebatz\\anaconda3\\lib\\site-packages\\ipykernel_launcher.py:31: SettingWithCopyWarning: \n",
      "A value is trying to be set on a copy of a slice from a DataFrame.\n",
      "Try using .loc[row_indexer,col_indexer] = value instead\n",
      "\n",
      "See the caveats in the documentation: https://pandas.pydata.org/pandas-docs/stable/user_guide/indexing.html#returning-a-view-versus-a-copy\n"
     ]
    }
   ],
   "source": [
    "# Columns for the taxonomy dataset\n",
    "taxa_cols = [\"SpecCode\", \"Genus\", \"Species\", \"Family\", \"Order\", \"Class\"]\n",
    "taxa_subset = taxaTable[taxa_cols].set_index(\"SpecCode\")\n",
    "\n",
    "# Columns for the species dataset\n",
    "spec_cols = [\"SpecCode\", \"Vulnerability\", \"Length\", \"Weight\", \"Importance\", \"UsedforAquaculture\",\n",
    "             \"UsedasBait\", \"Aquarium\", \"GameFish\", \"Dangerous\"]\n",
    "\n",
    "# Columns for the reproduction dataset\n",
    "reproTable.rename(columns={\"Speccode\": \"SpecCode\"}, inplace = True)\n",
    "repro_cols = [\"SpecCode\", \"AgeMatMin\", \"AgeMatMin2\", \"LengthMatMin\", \"LengthMatMin2\"]\n",
    "repro_subset = reproTable[repro_cols].set_index(\"SpecCode\")\n",
    "\n",
    "repro_subset = repro_subset.groupby(\"SpecCode\").mean()\n",
    "AgeMin = repro_subset[[\"AgeMatMin\",\"AgeMatMin2\"]].min(axis = 1)\n",
    "LengthMin = repro_subset[[\"LengthMatMin\",\"LengthMatMin2\"]].min(axis = 1)\n",
    "repro_subset = pd.concat([pd.Series(AgeMin), pd.Series(LengthMin)],axis = 1)\n",
    "repro_subset.columns = [\"Age_Maturity\", \"Length_Maturity\"]\n",
    "\n",
    "# Columns for the ecology dataset\n",
    "eco_cols = [\"SpecCode\",\"Neritic\", \"SupraLittoralZone\", \"Saltmarshes\", \"LittoralZone\", \"TidePools\", \"Intertidal\", \"SubLittoral\", \n",
    "\"Caves\", \"Oceanic\",\"Epipelagic\", \"Mesopelagic\", \"Bathypelagic\", \"Abyssopelagic\", \"Hadopelagic\", \"Estuaries\", \"Mangroves\",\n",
    "\"MarshesSwamps\", \"CaveAnchialine\", \"Stream\", \"Lakes\",\"Cave\",'DietTLu']\n",
    "\n",
    "# Binaries are coded as -1,0 in this data - converting to 1,0\n",
    "eco_subset = ecologyTable[eco_cols].set_index(\"SpecCode\")\n",
    "eco_subset[eco_cols[1:-1]] = (eco_subset[eco_cols[1:-1]] == -1) * 1\n",
    "eco_subset = eco_subset.groupby(\"SpecCode\").sum()\n",
    "\n",
    "spec_subset = speciesTable[spec_cols]\n",
    "spec_subset[\"GameFish\"] = (speciesTable[\"GameFish\"] == -1) * 1\n",
    "\n",
    "# Binarizing labels\n",
    "spec_bin = pd.concat(\n",
    "    [pd.get_dummies(spec_subset[\"Importance\"], prefix='Imp'),\n",
    "     pd.get_dummies(spec_subset[\"Aquarium\"], prefix='Aquarium'),\n",
    "     pd.get_dummies(spec_subset[\"UsedforAquaculture\"], prefix='Aquaculture'),\n",
    "     pd.get_dummies(spec_subset[\"UsedasBait\"], prefix='Bait').iloc[:,1:],\n",
    "     pd.get_dummies(spec_subset[\"Dangerous\"], prefix='Danger')],\n",
    "    axis = 1)\n",
    "\n",
    "spec_subset = pd.concat([spec_subset.drop(columns = [\"Importance\", \"Aquarium\", \"UsedforAquaculture\", \"UsedasBait\", \"Dangerous\"]),\n",
    "           spec_bin],\n",
    "          axis = 1).set_index(\"SpecCode\")"
   ]
  },
  {
   "cell_type": "markdown",
   "metadata": {},
   "source": [
    "#### 1.2 Joining Tables"
   ]
  },
  {
   "cell_type": "code",
   "execution_count": 24,
   "metadata": {},
   "outputs": [
    {
     "data": {
      "text/html": [
       "<div>\n",
       "<style scoped>\n",
       "    .dataframe tbody tr th:only-of-type {\n",
       "        vertical-align: middle;\n",
       "    }\n",
       "\n",
       "    .dataframe tbody tr th {\n",
       "        vertical-align: top;\n",
       "    }\n",
       "\n",
       "    .dataframe thead th {\n",
       "        text-align: right;\n",
       "    }\n",
       "</style>\n",
       "<table border=\"1\" class=\"dataframe\">\n",
       "  <thead>\n",
       "    <tr style=\"text-align: right;\">\n",
       "      <th></th>\n",
       "      <th>Genus</th>\n",
       "      <th>Species</th>\n",
       "      <th>Family</th>\n",
       "      <th>Order</th>\n",
       "      <th>Class</th>\n",
       "      <th>Vulnerability</th>\n",
       "      <th>Length</th>\n",
       "      <th>Weight</th>\n",
       "      <th>GameFish</th>\n",
       "      <th>Imp_</th>\n",
       "      <th>...</th>\n",
       "      <th>brackish</th>\n",
       "      <th>tropical</th>\n",
       "      <th>subtropical</th>\n",
       "      <th>polar</th>\n",
       "      <th>temperate</th>\n",
       "      <th>boreal</th>\n",
       "      <th>Area</th>\n",
       "      <th>AverageDepth</th>\n",
       "      <th>TempSurface</th>\n",
       "      <th>TempDepth</th>\n",
       "    </tr>\n",
       "    <tr>\n",
       "      <th>SpecCode</th>\n",
       "      <th></th>\n",
       "      <th></th>\n",
       "      <th></th>\n",
       "      <th></th>\n",
       "      <th></th>\n",
       "      <th></th>\n",
       "      <th></th>\n",
       "      <th></th>\n",
       "      <th></th>\n",
       "      <th></th>\n",
       "      <th></th>\n",
       "      <th></th>\n",
       "      <th></th>\n",
       "      <th></th>\n",
       "      <th></th>\n",
       "      <th></th>\n",
       "      <th></th>\n",
       "      <th></th>\n",
       "      <th></th>\n",
       "      <th></th>\n",
       "      <th></th>\n",
       "    </tr>\n",
       "  </thead>\n",
       "  <tbody>\n",
       "    <tr>\n",
       "      <th>48039</th>\n",
       "      <td>Abyssocottus</td>\n",
       "      <td>elochini</td>\n",
       "      <td>Abyssocottidae</td>\n",
       "      <td>Scorpaeniformes</td>\n",
       "      <td>Actinopterygii</td>\n",
       "      <td>40.29</td>\n",
       "      <td>NaN</td>\n",
       "      <td>NaN</td>\n",
       "      <td>0.0</td>\n",
       "      <td>0.0</td>\n",
       "      <td>...</td>\n",
       "      <td>NaN</td>\n",
       "      <td>NaN</td>\n",
       "      <td>NaN</td>\n",
       "      <td>NaN</td>\n",
       "      <td>NaN</td>\n",
       "      <td>NaN</td>\n",
       "      <td>NaN</td>\n",
       "      <td>NaN</td>\n",
       "      <td>NaN</td>\n",
       "      <td>NaN</td>\n",
       "    </tr>\n",
       "    <tr>\n",
       "      <th>48040</th>\n",
       "      <td>Abyssocottus</td>\n",
       "      <td>gibbosus</td>\n",
       "      <td>Abyssocottidae</td>\n",
       "      <td>Scorpaeniformes</td>\n",
       "      <td>Actinopterygii</td>\n",
       "      <td>35.49</td>\n",
       "      <td>14.0</td>\n",
       "      <td>NaN</td>\n",
       "      <td>0.0</td>\n",
       "      <td>0.0</td>\n",
       "      <td>...</td>\n",
       "      <td>NaN</td>\n",
       "      <td>NaN</td>\n",
       "      <td>NaN</td>\n",
       "      <td>NaN</td>\n",
       "      <td>NaN</td>\n",
       "      <td>NaN</td>\n",
       "      <td>NaN</td>\n",
       "      <td>NaN</td>\n",
       "      <td>NaN</td>\n",
       "      <td>NaN</td>\n",
       "    </tr>\n",
       "    <tr>\n",
       "      <th>47208</th>\n",
       "      <td>Abyssocottus</td>\n",
       "      <td>korotneffi</td>\n",
       "      <td>Abyssocottidae</td>\n",
       "      <td>Scorpaeniformes</td>\n",
       "      <td>Actinopterygii</td>\n",
       "      <td>32.97</td>\n",
       "      <td>12.6</td>\n",
       "      <td>NaN</td>\n",
       "      <td>0.0</td>\n",
       "      <td>0.0</td>\n",
       "      <td>...</td>\n",
       "      <td>NaN</td>\n",
       "      <td>NaN</td>\n",
       "      <td>NaN</td>\n",
       "      <td>NaN</td>\n",
       "      <td>NaN</td>\n",
       "      <td>NaN</td>\n",
       "      <td>NaN</td>\n",
       "      <td>NaN</td>\n",
       "      <td>NaN</td>\n",
       "      <td>NaN</td>\n",
       "    </tr>\n",
       "    <tr>\n",
       "      <th>48048</th>\n",
       "      <td>Asprocottus</td>\n",
       "      <td>abyssalis</td>\n",
       "      <td>Abyssocottidae</td>\n",
       "      <td>Scorpaeniformes</td>\n",
       "      <td>Actinopterygii</td>\n",
       "      <td>38.21</td>\n",
       "      <td>NaN</td>\n",
       "      <td>NaN</td>\n",
       "      <td>0.0</td>\n",
       "      <td>0.0</td>\n",
       "      <td>...</td>\n",
       "      <td>NaN</td>\n",
       "      <td>NaN</td>\n",
       "      <td>NaN</td>\n",
       "      <td>NaN</td>\n",
       "      <td>NaN</td>\n",
       "      <td>NaN</td>\n",
       "      <td>NaN</td>\n",
       "      <td>NaN</td>\n",
       "      <td>NaN</td>\n",
       "      <td>NaN</td>\n",
       "    </tr>\n",
       "    <tr>\n",
       "      <th>48049</th>\n",
       "      <td>Asprocottus</td>\n",
       "      <td>herzensteini</td>\n",
       "      <td>Abyssocottidae</td>\n",
       "      <td>Scorpaeniformes</td>\n",
       "      <td>Actinopterygii</td>\n",
       "      <td>33.02</td>\n",
       "      <td>11.5</td>\n",
       "      <td>NaN</td>\n",
       "      <td>0.0</td>\n",
       "      <td>0.0</td>\n",
       "      <td>...</td>\n",
       "      <td>NaN</td>\n",
       "      <td>NaN</td>\n",
       "      <td>NaN</td>\n",
       "      <td>NaN</td>\n",
       "      <td>NaN</td>\n",
       "      <td>NaN</td>\n",
       "      <td>NaN</td>\n",
       "      <td>NaN</td>\n",
       "      <td>NaN</td>\n",
       "      <td>NaN</td>\n",
       "    </tr>\n",
       "  </tbody>\n",
       "</table>\n",
       "<p>5 rows × 74 columns</p>\n",
       "</div>"
      ],
      "text/plain": [
       "                 Genus       Species          Family            Order  \\\n",
       "SpecCode                                                                \n",
       "48039     Abyssocottus      elochini  Abyssocottidae  Scorpaeniformes   \n",
       "48040     Abyssocottus      gibbosus  Abyssocottidae  Scorpaeniformes   \n",
       "47208     Abyssocottus    korotneffi  Abyssocottidae  Scorpaeniformes   \n",
       "48048      Asprocottus     abyssalis  Abyssocottidae  Scorpaeniformes   \n",
       "48049      Asprocottus  herzensteini  Abyssocottidae  Scorpaeniformes   \n",
       "\n",
       "                   Class  Vulnerability  Length  Weight  GameFish  Imp_   ...  \\\n",
       "SpecCode                                                                  ...   \n",
       "48039     Actinopterygii          40.29     NaN     NaN       0.0    0.0  ...   \n",
       "48040     Actinopterygii          35.49    14.0     NaN       0.0    0.0  ...   \n",
       "47208     Actinopterygii          32.97    12.6     NaN       0.0    0.0  ...   \n",
       "48048     Actinopterygii          38.21     NaN     NaN       0.0    0.0  ...   \n",
       "48049     Actinopterygii          33.02    11.5     NaN       0.0    0.0  ...   \n",
       "\n",
       "          brackish  tropical  subtropical  polar  temperate  boreal  Area  \\\n",
       "SpecCode                                                                    \n",
       "48039          NaN       NaN          NaN    NaN        NaN     NaN   NaN   \n",
       "48040          NaN       NaN          NaN    NaN        NaN     NaN   NaN   \n",
       "47208          NaN       NaN          NaN    NaN        NaN     NaN   NaN   \n",
       "48048          NaN       NaN          NaN    NaN        NaN     NaN   NaN   \n",
       "48049          NaN       NaN          NaN    NaN        NaN     NaN   NaN   \n",
       "\n",
       "          AverageDepth  TempSurface  TempDepth  \n",
       "SpecCode                                        \n",
       "48039              NaN          NaN        NaN  \n",
       "48040              NaN          NaN        NaN  \n",
       "47208              NaN          NaN        NaN  \n",
       "48048              NaN          NaN        NaN  \n",
       "48049              NaN          NaN        NaN  \n",
       "\n",
       "[5 rows x 74 columns]"
      ]
     },
     "execution_count": 24,
     "metadata": {},
     "output_type": "execute_result"
    }
   ],
   "source": [
    "features = taxa_subset.join([spec_subset, eco_subset, repro_subset, ecosys_full])\n",
    "features.head()"
   ]
  },
  {
   "cell_type": "code",
   "execution_count": 25,
   "metadata": {},
   "outputs": [],
   "source": [
    "features.to_csv(\"data/fishbase_features.csv\")"
   ]
  },
  {
   "cell_type": "markdown",
   "metadata": {},
   "source": [
    "#### 1.3 Creating IUCN Labels"
   ]
  },
  {
   "cell_type": "code",
   "execution_count": 26,
   "metadata": {},
   "outputs": [],
   "source": [
    "if not path.exists('data/IUCN.csv'):\n",
    "\n",
    "    try:\n",
    "        from urllib.request import urlretrieve\n",
    "    except ImportError:\n",
    "        from urllib import urlretrieve\n",
    "\n",
    "    urlretrieve('https://drive.google.com/u/0/uc?id=0B9_zEbZIPqtIVXJ1VVpEMGNxdnc&export=download', \n",
    "                'data/IUCN.csv')\n",
    "\n",
    "# Reading in dataset -- correcting some encoding errors    \n",
    "IUCN_labels = pd.read_csv('data/IUCN.csv', encoding = \"ISO-8859-1\", engine='python')"
   ]
  },
  {
   "cell_type": "code",
   "execution_count": 27,
   "metadata": {},
   "outputs": [
    {
     "data": {
      "text/html": [
       "<div>\n",
       "<style scoped>\n",
       "    .dataframe tbody tr th:only-of-type {\n",
       "        vertical-align: middle;\n",
       "    }\n",
       "\n",
       "    .dataframe tbody tr th {\n",
       "        vertical-align: top;\n",
       "    }\n",
       "\n",
       "    .dataframe thead th {\n",
       "        text-align: right;\n",
       "    }\n",
       "</style>\n",
       "<table border=\"1\" class=\"dataframe\">\n",
       "  <thead>\n",
       "    <tr style=\"text-align: right;\">\n",
       "      <th></th>\n",
       "      <th>Class</th>\n",
       "      <th>Order</th>\n",
       "      <th>Family</th>\n",
       "      <th>Genus</th>\n",
       "      <th>Species</th>\n",
       "      <th>Red List status</th>\n",
       "    </tr>\n",
       "  </thead>\n",
       "  <tbody>\n",
       "    <tr>\n",
       "      <th>0</th>\n",
       "      <td>Magnoliopsida</td>\n",
       "      <td>Fabales</td>\n",
       "      <td>Leguminosae</td>\n",
       "      <td>Abarema</td>\n",
       "      <td>cochliocarpos</td>\n",
       "      <td>LC</td>\n",
       "    </tr>\n",
       "    <tr>\n",
       "      <th>1</th>\n",
       "      <td>Magnoliopsida</td>\n",
       "      <td>Fabales</td>\n",
       "      <td>Leguminosae</td>\n",
       "      <td>Abarema</td>\n",
       "      <td>commutata</td>\n",
       "      <td>LR/lc</td>\n",
       "    </tr>\n",
       "    <tr>\n",
       "      <th>2</th>\n",
       "      <td>Magnoliopsida</td>\n",
       "      <td>Fabales</td>\n",
       "      <td>Leguminosae</td>\n",
       "      <td>Abarema</td>\n",
       "      <td>curvicarpa</td>\n",
       "      <td>LC</td>\n",
       "    </tr>\n",
       "    <tr>\n",
       "      <th>3</th>\n",
       "      <td>Aves</td>\n",
       "      <td>Caprimulgiformes</td>\n",
       "      <td>Trochilidae</td>\n",
       "      <td>Abeillia</td>\n",
       "      <td>abeillei</td>\n",
       "      <td>LC</td>\n",
       "    </tr>\n",
       "    <tr>\n",
       "      <th>4</th>\n",
       "      <td>Mammalia</td>\n",
       "      <td>Rodentia</td>\n",
       "      <td>Muridae</td>\n",
       "      <td>Abeomelomys</td>\n",
       "      <td>sevia</td>\n",
       "      <td>LC</td>\n",
       "    </tr>\n",
       "  </tbody>\n",
       "</table>\n",
       "</div>"
      ],
      "text/plain": [
       "           Class             Order       Family        Genus        Species  \\\n",
       "0  Magnoliopsida           Fabales  Leguminosae      Abarema  cochliocarpos   \n",
       "1  Magnoliopsida           Fabales  Leguminosae      Abarema      commutata   \n",
       "2  Magnoliopsida           Fabales  Leguminosae      Abarema     curvicarpa   \n",
       "3           Aves  Caprimulgiformes  Trochilidae     Abeillia       abeillei   \n",
       "4       Mammalia          Rodentia      Muridae  Abeomelomys          sevia   \n",
       "\n",
       "  Red List status  \n",
       "0              LC  \n",
       "1           LR/lc  \n",
       "2              LC  \n",
       "3              LC  \n",
       "4              LC  "
      ]
     },
     "execution_count": 27,
     "metadata": {},
     "output_type": "execute_result"
    }
   ],
   "source": [
    "IUCN_labels = IUCN_labels[[\"Class\", 'Order', 'Family', 'Genus', 'Species', 'Red List status']]\n",
    "\n",
    "IUCN_labels[[\"Class\", 'Order', 'Family']] = IUCN_labels[[\"Class\", 'Order', 'Family']].apply(lambda x: x.astype(str).str.capitalize())\n",
    "fish_classes = ['Actinopterygii', 'Chondrichthyes','Sarcopterygii','Cephalaspidomorphi']\n",
    "\n",
    "IUCN_subset = IUCN_labels.loc[IUCN_labels['Class'].isin(fish_classes)]\n",
    "\n",
    "IUCN_labels.head()"
   ]
  },
  {
   "cell_type": "code",
   "execution_count": 28,
   "metadata": {},
   "outputs": [],
   "source": [
    "full_df = pd.merge(features, IUCN_subset.iloc[:,3:],  \n",
    "         how='left', \n",
    "         left_on=['Genus', 'Species'], \n",
    "         right_on = ['Genus', 'Species'])"
   ]
  },
  {
   "cell_type": "markdown",
   "metadata": {},
   "source": [
    "__Note:__ Some issues with taxonomy cause issues with the join. ~150 labels need to have corrected Genus/Species labels to match the current version of FishBase. Will have to correct manually later on."
   ]
  },
  {
   "cell_type": "code",
   "execution_count": 29,
   "metadata": {},
   "outputs": [
    {
     "data": {
      "text/plain": [
       "(9268, 75)"
      ]
     },
     "execution_count": 29,
     "metadata": {},
     "output_type": "execute_result"
    }
   ],
   "source": [
    "data_labelled = full_df[full_df[\"Red List status\"].notna()]\n",
    "data_labelled.shape"
   ]
  },
  {
   "cell_type": "markdown",
   "metadata": {},
   "source": [
    "Updated versions of the RedList dataset are not yet available for download. The data I am using is a few years old, and contains secondary categories between LC - \"Least Concern\" and NT - \"Near Threatened\" -- \"LR/lc\" and \"LR/nt\". There are relatively few observations of this class, so I'll just lump them into the LC class."
   ]
  },
  {
   "cell_type": "code",
   "execution_count": 30,
   "metadata": {
    "scrolled": true
   },
   "outputs": [
    {
     "name": "stderr",
     "output_type": "stream",
     "text": [
      "C:\\Users\\ebatz\\anaconda3\\lib\\site-packages\\ipykernel_launcher.py:1: SettingWithCopyWarning: \n",
      "A value is trying to be set on a copy of a slice from a DataFrame.\n",
      "Try using .loc[row_indexer,col_indexer] = value instead\n",
      "\n",
      "See the caveats in the documentation: https://pandas.pydata.org/pandas-docs/stable/user_guide/indexing.html#returning-a-view-versus-a-copy\n",
      "  \"\"\"Entry point for launching an IPython kernel.\n",
      "C:\\Users\\ebatz\\anaconda3\\lib\\site-packages\\ipykernel_launcher.py:4: SettingWithCopyWarning: \n",
      "A value is trying to be set on a copy of a slice from a DataFrame.\n",
      "Try using .loc[row_indexer,col_indexer] = value instead\n",
      "\n",
      "See the caveats in the documentation: https://pandas.pydata.org/pandas-docs/stable/user_guide/indexing.html#returning-a-view-versus-a-copy\n",
      "  after removing the cwd from sys.path.\n"
     ]
    }
   ],
   "source": [
    "data_labelled[\"Red List status\"] = data_labelled[\"Red List status\"].str.replace(\"LR.+\", \"LC\")\n",
    "data_labelled[\"Red List status\"] = pd.Categorical(data_labelled[\"Red List status\"],\n",
    "               categories = [\"LC\", \"NT\", \"VU\", \"EN\", \"CR\", \"EW\", \"EX\"],\n",
    "              ordered=True)"
   ]
  },
  {
   "cell_type": "markdown",
   "metadata": {},
   "source": [
    "Removing species that are \"endangered\" or \"extinct in the wild\""
   ]
  },
  {
   "cell_type": "code",
   "execution_count": 31,
   "metadata": {},
   "outputs": [],
   "source": [
    "import numpy as np\n",
    "data_labelled = data_labelled[~data_labelled[\"Red List status\"].isin([\"EX\", \"EW\"])]\n",
    "data_labelled.to_csv(\"data/data_labelled.csv\")"
   ]
  },
  {
   "cell_type": "code",
   "execution_count": 32,
   "metadata": {},
   "outputs": [
    {
     "data": {
      "image/png": "[encoded data removed]",
      "text/plain": [
       "<Figure size 640x480 with 1 Axes>"
      ]
     },
     "metadata": {},
     "output_type": "display_data"
    },
    {
     "data": {
      "text/plain": [
       "<ggplot: (-9223371924973087224)>"
      ]
     },
     "execution_count": 32,
     "metadata": {},
     "output_type": "execute_result"
    }
   ],
   "source": [
    "(ggplot(data_labelled,\n",
    "       aes(x = 'Red List status',\n",
    "          fill = 'Red List status')) + \n",
    " geom_bar() +\n",
    "scale_fill_cmap_d(\"magma\"))"
   ]
  },
  {
   "cell_type": "markdown",
   "metadata": {},
   "source": [
    "### 2. Imputing Missing Features"
   ]
  },
  {
   "cell_type": "markdown",
   "metadata": {},
   "source": [
    "Ideally, imputation could be constructed using phylogenetic information from different species -- the genetic relationships that describe how similar species are to one another on an evolutionary scale. Given the scope of this dataset, however, a full *time-calibrated phylogeny of all fish species* is not available. \n",
    "\n",
    "However, many features are predictive of one another. Larger fish, for example, are likely to have longer times to maturity and slower reproductive rates. Approches like Random Forest based imputation are known to be [effective imputers for species trait data](https://besjournals.onlinelibrary.wiley.com/doi/10.1111/2041-210X.12232) in certain circumstances."
   ]
  },
  {
   "cell_type": "code",
   "execution_count": 64,
   "metadata": {
    "scrolled": true
   },
   "outputs": [],
   "source": [
    "from sklearn.experimental import enable_iterative_imputer\n",
    "from sklearn.impute import IterativeImputer\n",
    "from sklearn.ensemble import ExtraTreesRegressor\n",
    "from sklearn.neighbors import KNeighborsRegressor\n",
    "from sklearn.pipeline import make_pipeline\n",
    "from sklearn.model_selection import cross_val_score\n",
    "\n",
    "data_labelled = pd.read_csv(\"data/data_labelled.csv\")\n",
    "\n",
    "imputer = IterativeImputer(estimator = KNeighborsRegressor(n_neighbors=5),\n",
    "                            add_indicator = True)"
   ]
  },
  {
   "cell_type": "code",
   "execution_count": 65,
   "metadata": {},
   "outputs": [],
   "source": [
    "features = data_labelled.drop([\"Species\", \"Vulnerability\", \"Red List status\", \"Genus\", \n",
    "                               \"Family\", \"Order\", \"Class\", \"Unnamed: 0\", \"Speccode\"], axis = 1)\n",
    "features[\"Area\"].replace(0, np.nan, inplace=True)"
   ]
  },
  {
   "cell_type": "code",
   "execution_count": 66,
   "metadata": {},
   "outputs": [
    {
     "data": {
      "text/plain": [
       "Index(['Length', 'Weight', 'GameFish', 'Imp_ ', 'Imp_commercial',\n",
       "       'Imp_highly commercial', 'Imp_minor commercial', 'Imp_of no interest',\n",
       "       'Imp_of potential interest', 'Imp_subsistence fisheries',\n",
       "       'Aquarium_commercial', 'Aquarium_highly commercial',\n",
       "       'Aquarium_never/rarely', 'Aquarium_potential',\n",
       "       'Aquarium_public aquariums', 'Aquarium_show aquarium',\n",
       "       'Aquaculture_commercial', 'Aquaculture_experimental',\n",
       "       'Aquaculture_likely future use', 'Aquaculture_never/rarely',\n",
       "       'Bait_never/rarely', 'Bait_occasionally', 'Bait_usually',\n",
       "       'Danger_Harmless', 'Danger_harmless', 'Danger_other',\n",
       "       'Danger_poisonous to eat', 'Danger_potential pest',\n",
       "       'Danger_reports of ciguatera poisoning', 'Danger_traumatogenic',\n",
       "       'Danger_venomous', 'Neritic', 'SupraLittoralZone', 'Saltmarshes',\n",
       "       'LittoralZone', 'TidePools', 'Intertidal', 'SubLittoral', 'Caves',\n",
       "       'Oceanic', 'Epipelagic', 'Mesopelagic', 'Bathypelagic', 'Abyssopelagic',\n",
       "       'Hadopelagic', 'Estuaries', 'Mangroves', 'MarshesSwamps',\n",
       "       'CaveAnchialine', 'Stream', 'Lakes', 'Cave', 'DietTLu', 'Age_Maturity',\n",
       "       'Length_Maturity', 'freshwater', 'saltwater', 'brackish', 'tropical',\n",
       "       'subtropical', 'polar', 'temperate', 'boreal', 'Area', 'AverageDepth',\n",
       "       'TempSurface', 'TempDepth'],\n",
       "      dtype='object')"
      ]
     },
     "execution_count": 66,
     "metadata": {},
     "output_type": "execute_result"
    }
   ],
   "source": [
    "features.columns"
   ]
  },
  {
   "cell_type": "code",
   "execution_count": 67,
   "metadata": {},
   "outputs": [],
   "source": [
    "features_bin = pd.get_dummies(features, columns=[])\n",
    "features_bin = features_bin.drop(\"Imp_ \", axis = 1)"
   ]
  },
  {
   "cell_type": "code",
   "execution_count": 68,
   "metadata": {},
   "outputs": [
    {
     "data": {
      "text/html": [
       "<div>\n",
       "<style scoped>\n",
       "    .dataframe tbody tr th:only-of-type {\n",
       "        vertical-align: middle;\n",
       "    }\n",
       "\n",
       "    .dataframe tbody tr th {\n",
       "        vertical-align: top;\n",
       "    }\n",
       "\n",
       "    .dataframe thead th {\n",
       "        text-align: right;\n",
       "    }\n",
       "</style>\n",
       "<table border=\"1\" class=\"dataframe\">\n",
       "  <thead>\n",
       "    <tr style=\"text-align: right;\">\n",
       "      <th></th>\n",
       "      <th>Length</th>\n",
       "      <th>Weight</th>\n",
       "      <th>GameFish</th>\n",
       "      <th>Imp_commercial</th>\n",
       "      <th>Imp_highly commercial</th>\n",
       "      <th>Imp_minor commercial</th>\n",
       "      <th>Imp_of no interest</th>\n",
       "      <th>Imp_of potential interest</th>\n",
       "      <th>Imp_subsistence fisheries</th>\n",
       "      <th>Aquarium_commercial</th>\n",
       "      <th>...</th>\n",
       "      <th>brackish</th>\n",
       "      <th>tropical</th>\n",
       "      <th>subtropical</th>\n",
       "      <th>polar</th>\n",
       "      <th>temperate</th>\n",
       "      <th>boreal</th>\n",
       "      <th>Area</th>\n",
       "      <th>AverageDepth</th>\n",
       "      <th>TempSurface</th>\n",
       "      <th>TempDepth</th>\n",
       "    </tr>\n",
       "  </thead>\n",
       "  <tbody>\n",
       "    <tr>\n",
       "      <th>0</th>\n",
       "      <td>24.0</td>\n",
       "      <td>NaN</td>\n",
       "      <td>0.0</td>\n",
       "      <td>1.0</td>\n",
       "      <td>0.0</td>\n",
       "      <td>0.0</td>\n",
       "      <td>0.0</td>\n",
       "      <td>0.0</td>\n",
       "      <td>0.0</td>\n",
       "      <td>1.0</td>\n",
       "      <td>...</td>\n",
       "      <td>0.0</td>\n",
       "      <td>1.0</td>\n",
       "      <td>0.0</td>\n",
       "      <td>0.0</td>\n",
       "      <td>0.0</td>\n",
       "      <td>0.0</td>\n",
       "      <td>NaN</td>\n",
       "      <td>NaN</td>\n",
       "      <td>NaN</td>\n",
       "      <td>NaN</td>\n",
       "    </tr>\n",
       "    <tr>\n",
       "      <th>1</th>\n",
       "      <td>33.0</td>\n",
       "      <td>NaN</td>\n",
       "      <td>0.0</td>\n",
       "      <td>0.0</td>\n",
       "      <td>0.0</td>\n",
       "      <td>0.0</td>\n",
       "      <td>0.0</td>\n",
       "      <td>0.0</td>\n",
       "      <td>0.0</td>\n",
       "      <td>0.0</td>\n",
       "      <td>...</td>\n",
       "      <td>0.0</td>\n",
       "      <td>1.0</td>\n",
       "      <td>0.0</td>\n",
       "      <td>0.0</td>\n",
       "      <td>0.0</td>\n",
       "      <td>0.0</td>\n",
       "      <td>NaN</td>\n",
       "      <td>NaN</td>\n",
       "      <td>NaN</td>\n",
       "      <td>NaN</td>\n",
       "    </tr>\n",
       "    <tr>\n",
       "      <th>2</th>\n",
       "      <td>45.0</td>\n",
       "      <td>NaN</td>\n",
       "      <td>0.0</td>\n",
       "      <td>1.0</td>\n",
       "      <td>0.0</td>\n",
       "      <td>0.0</td>\n",
       "      <td>0.0</td>\n",
       "      <td>0.0</td>\n",
       "      <td>0.0</td>\n",
       "      <td>0.0</td>\n",
       "      <td>...</td>\n",
       "      <td>0.0</td>\n",
       "      <td>1.0</td>\n",
       "      <td>0.0</td>\n",
       "      <td>0.0</td>\n",
       "      <td>0.0</td>\n",
       "      <td>0.0</td>\n",
       "      <td>244296764.0</td>\n",
       "      <td>4100.0</td>\n",
       "      <td>20.05</td>\n",
       "      <td>17.375</td>\n",
       "    </tr>\n",
       "    <tr>\n",
       "      <th>3</th>\n",
       "      <td>NaN</td>\n",
       "      <td>NaN</td>\n",
       "      <td>0.0</td>\n",
       "      <td>0.0</td>\n",
       "      <td>0.0</td>\n",
       "      <td>0.0</td>\n",
       "      <td>0.0</td>\n",
       "      <td>0.0</td>\n",
       "      <td>0.0</td>\n",
       "      <td>0.0</td>\n",
       "      <td>...</td>\n",
       "      <td>NaN</td>\n",
       "      <td>NaN</td>\n",
       "      <td>NaN</td>\n",
       "      <td>NaN</td>\n",
       "      <td>NaN</td>\n",
       "      <td>NaN</td>\n",
       "      <td>NaN</td>\n",
       "      <td>NaN</td>\n",
       "      <td>NaN</td>\n",
       "      <td>NaN</td>\n",
       "    </tr>\n",
       "    <tr>\n",
       "      <th>4</th>\n",
       "      <td>50.0</td>\n",
       "      <td>NaN</td>\n",
       "      <td>0.0</td>\n",
       "      <td>1.0</td>\n",
       "      <td>0.0</td>\n",
       "      <td>0.0</td>\n",
       "      <td>0.0</td>\n",
       "      <td>0.0</td>\n",
       "      <td>0.0</td>\n",
       "      <td>1.0</td>\n",
       "      <td>...</td>\n",
       "      <td>0.0</td>\n",
       "      <td>1.0</td>\n",
       "      <td>0.0</td>\n",
       "      <td>0.0</td>\n",
       "      <td>0.0</td>\n",
       "      <td>0.0</td>\n",
       "      <td>85029540.0</td>\n",
       "      <td>3600.0</td>\n",
       "      <td>21.55</td>\n",
       "      <td>17.550</td>\n",
       "    </tr>\n",
       "  </tbody>\n",
       "</table>\n",
       "<p>5 rows × 66 columns</p>\n",
       "</div>"
      ],
      "text/plain": [
       "   Length  Weight  GameFish  Imp_commercial  Imp_highly commercial  \\\n",
       "0    24.0     NaN       0.0             1.0                    0.0   \n",
       "1    33.0     NaN       0.0             0.0                    0.0   \n",
       "2    45.0     NaN       0.0             1.0                    0.0   \n",
       "3     NaN     NaN       0.0             0.0                    0.0   \n",
       "4    50.0     NaN       0.0             1.0                    0.0   \n",
       "\n",
       "   Imp_minor commercial  Imp_of no interest  Imp_of potential interest  \\\n",
       "0                   0.0                 0.0                        0.0   \n",
       "1                   0.0                 0.0                        0.0   \n",
       "2                   0.0                 0.0                        0.0   \n",
       "3                   0.0                 0.0                        0.0   \n",
       "4                   0.0                 0.0                        0.0   \n",
       "\n",
       "   Imp_subsistence fisheries  Aquarium_commercial  ...  brackish  tropical  \\\n",
       "0                        0.0                  1.0  ...       0.0       1.0   \n",
       "1                        0.0                  0.0  ...       0.0       1.0   \n",
       "2                        0.0                  0.0  ...       0.0       1.0   \n",
       "3                        0.0                  0.0  ...       NaN       NaN   \n",
       "4                        0.0                  1.0  ...       0.0       1.0   \n",
       "\n",
       "   subtropical  polar  temperate  boreal         Area  AverageDepth  \\\n",
       "0          0.0    0.0        0.0     0.0          NaN           NaN   \n",
       "1          0.0    0.0        0.0     0.0          NaN           NaN   \n",
       "2          0.0    0.0        0.0     0.0  244296764.0        4100.0   \n",
       "3          NaN    NaN        NaN     NaN          NaN           NaN   \n",
       "4          0.0    0.0        0.0     0.0   85029540.0        3600.0   \n",
       "\n",
       "   TempSurface  TempDepth  \n",
       "0          NaN        NaN  \n",
       "1          NaN        NaN  \n",
       "2        20.05     17.375  \n",
       "3          NaN        NaN  \n",
       "4        21.55     17.550  \n",
       "\n",
       "[5 rows x 66 columns]"
      ]
     },
     "execution_count": 68,
     "metadata": {},
     "output_type": "execute_result"
    }
   ],
   "source": [
    "features_bin.head()"
   ]
  },
  {
   "cell_type": "code",
   "execution_count": 69,
   "metadata": {},
   "outputs": [],
   "source": [
    "from sklearn.preprocessing import StandardScaler\n",
    "\n",
    "scaler = StandardScaler()\n",
    "features_std = pd.DataFrame(scaler.fit_transform(features_bin), columns = features_bin.columns)"
   ]
  },
  {
   "cell_type": "code",
   "execution_count": 70,
   "metadata": {},
   "outputs": [
    {
     "name": "stderr",
     "output_type": "stream",
     "text": [
      "C:\\Users\\ebatz\\anaconda3\\lib\\site-packages\\sklearn\\impute\\_iterative.py:638: ConvergenceWarning: [IterativeImputer] Early stopping criterion not reached.\n",
      "  \" reached.\", ConvergenceWarning)\n"
     ]
    }
   ],
   "source": [
    "data_imputed = imputer.fit_transform(features_std)"
   ]
  },
  {
   "cell_type": "markdown",
   "metadata": {},
   "source": [
    "### 3. Feature Engineering"
   ]
  },
  {
   "cell_type": "markdown",
   "metadata": {},
   "source": [
    "### 4. Binary Classification - Threatened / Non-Threatened"
   ]
  },
  {
   "cell_type": "code",
   "execution_count": 79,
   "metadata": {},
   "outputs": [],
   "source": [
    "x_full = data_imputed # Imputed predictors\n",
    "y_full = data_labelled[\"Red List status\"] == \"LC\" * 1 # Classes - whether \"Least Concern\" or not "
   ]
  },
  {
   "cell_type": "code",
   "execution_count": 80,
   "metadata": {},
   "outputs": [],
   "source": [
    "from xgboost import XGBRFClassifier\n",
    "from sklearn.model_selection import StratifiedKFold\n",
    "from sklearn.model_selection import RandomizedSearchCV"
   ]
  },
  {
   "cell_type": "code",
   "execution_count": 81,
   "metadata": {},
   "outputs": [],
   "source": [
    "params = {\n",
    "        'min_child_weight': [1, 5, 10],\n",
    "        'gamma': [0.5, 1, 1.5, 2, 5],\n",
    "        'subsample': [0.6, 0.8, 1.0],\n",
    "        'colsample_bytree': [0.6, 0.8, 1.0],\n",
    "        'max_depth': [3, 4, 5, 8, 10, 20],\n",
    "        'n_estimators': [100,200,300,500,600,800,1000]\n",
    "        }\n",
    "\n",
    "xgb = XGBRFClassifier(learning_rate=0.02,\n",
    "                    objective='binary:logistic',\n",
    "                    silent=True, \n",
    "                    nthread=1)\n",
    "\n",
    "folds = 3\n",
    "param_comb = 25\n",
    "\n",
    "skf = StratifiedKFold(n_splits=folds, shuffle = True, random_state = 0)\n",
    "\n",
    "random_search = RandomizedSearchCV(xgb, param_distributions=params, \n",
    "                                   n_iter=param_comb, scoring='accuracy', n_jobs=4, \n",
    "                                   cv=skf.split(x_full,y_full), verbose=3, random_state=0)"
   ]
  },
  {
   "cell_type": "code",
   "execution_count": 82,
   "metadata": {},
   "outputs": [
    {
     "name": "stdout",
     "output_type": "stream",
     "text": [
      "Fitting 3 folds for each of 25 candidates, totalling 75 fits\n"
     ]
    },
    {
     "name": "stderr",
     "output_type": "stream",
     "text": [
      "[Parallel(n_jobs=4)]: Using backend LokyBackend with 4 concurrent workers.\n",
      "[Parallel(n_jobs=4)]: Done  24 tasks      | elapsed:  1.8min\n",
      "[Parallel(n_jobs=4)]: Done  75 out of  75 | elapsed:  8.1min finished\n"
     ]
    },
    {
     "data": {
      "text/plain": [
       "RandomizedSearchCV(cv=<generator object _BaseKFold.split at 0x000001A0DA214DC8>,\n",
       "                   error_score=nan,\n",
       "                   estimator=XGBRFClassifier(base_score=0.5,\n",
       "                                             colsample_bylevel=1,\n",
       "                                             colsample_bynode=0.8,\n",
       "                                             colsample_bytree=1, gamma=0,\n",
       "                                             learning_rate=0.02,\n",
       "                                             max_delta_step=0, max_depth=3,\n",
       "                                             min_child_weight=1, missing=None,\n",
       "                                             n_estimators=100, n_jobs=1,\n",
       "                                             nthread=1,\n",
       "                                             objective='binary:logistic',\n",
       "                                             rando...\n",
       "                                             subsample=0.8, verbosity=1),\n",
       "                   iid='deprecated', n_iter=25, n_jobs=4,\n",
       "                   param_distributions={'colsample_bytree': [0.6, 0.8, 1.0],\n",
       "                                        'gamma': [0.5, 1, 1.5, 2, 5],\n",
       "                                        'max_depth': [3, 4, 5, 8, 10, 20],\n",
       "                                        'min_child_weight': [1, 5, 10],\n",
       "                                        'n_estimators': [100, 200, 300, 500,\n",
       "                                                         600, 800, 1000],\n",
       "                                        'subsample': [0.6, 0.8, 1.0]},\n",
       "                   pre_dispatch='2*n_jobs', random_state=0, refit=True,\n",
       "                   return_train_score=False, scoring='accuracy', verbose=3)"
      ]
     },
     "execution_count": 82,
     "metadata": {},
     "output_type": "execute_result"
    }
   ],
   "source": [
    "random_search.fit(x_full, y_full)"
   ]
  },
  {
   "cell_type": "code",
   "execution_count": 95,
   "metadata": {
    "scrolled": true
   },
   "outputs": [],
   "source": [
    "best_est = random_search.best_estimator_"
   ]
  },
  {
   "cell_type": "code",
   "execution_count": 96,
   "metadata": {
    "scrolled": true
   },
   "outputs": [
    {
     "data": {
      "text/plain": [
       "array([0.7584485 , 0.76681542, 0.75920908, 0.75996983, 0.75670992,\n",
       "       0.75855726, 0.76627211, 0.76312081, 0.75877456, 0.77061844,\n",
       "       0.76724988, 0.76333839, 0.76583713, 0.76377313, 0.76322967,\n",
       "       0.7577964 , 0.76192596, 0.7636643 , 0.75931762, 0.76746735,\n",
       "       0.75996965, 0.76214305, 0.76225176, 0.75605795, 0.75703593])"
      ]
     },
     "execution_count": 96,
     "metadata": {},
     "output_type": "execute_result"
    }
   ],
   "source": [
    "random_search.cv_results_['mean_test_score']"
   ]
  },
  {
   "cell_type": "code",
   "execution_count": 112,
   "metadata": {
    "scrolled": false
   },
   "outputs": [
    {
     "data": {
      "text/plain": [
       "XGBRFClassifier(base_score=0.5, colsample_bylevel=1, colsample_bynode=0.8,\n",
       "                colsample_bytree=0.6, gamma=1, learning_rate=0.02,\n",
       "                max_delta_step=0, max_depth=20, min_child_weight=1,\n",
       "                missing=None, n_estimators=600, n_jobs=1, nthread=1,\n",
       "                objective='binary:logistic', random_state=0, reg_alpha=0,\n",
       "                reg_lambda=1, scale_pos_weight=1, seed=None, silent=True,\n",
       "                subsample=0.6, verbosity=1)"
      ]
     },
     "execution_count": 112,
     "metadata": {},
     "output_type": "execute_result"
    }
   ],
   "source": [
    "best_est.fit(x_full, y_full)"
   ]
  },
  {
   "cell_type": "code",
   "execution_count": 105,
   "metadata": {},
   "outputs": [
    {
     "data": {
      "text/plain": [
       "0.8114745191785288"
      ]
     },
     "execution_count": 105,
     "metadata": {},
     "output_type": "execute_result"
    }
   ],
   "source": [
    "best_est.score(x_full, y_full)"
   ]
  },
  {
   "cell_type": "code",
   "execution_count": 106,
   "metadata": {},
   "outputs": [
    {
     "data": {
      "text/plain": [
       "XGBRFClassifier(base_score=0.5, colsample_bylevel=1, colsample_bynode=0.8,\n",
       "                colsample_bytree=0.6, gamma=1, learning_rate=0.02,\n",
       "                max_delta_step=0, max_depth=20, min_child_weight=1,\n",
       "                missing=None, n_estimators=600, n_jobs=1, nthread=1,\n",
       "                objective='binary:logistic', random_state=0, reg_alpha=0,\n",
       "                reg_lambda=1, scale_pos_weight=1, seed=None, silent=True,\n",
       "                subsample=0.6, verbosity=1)"
      ]
     },
     "execution_count": 106,
     "metadata": {},
     "output_type": "execute_result"
    }
   ],
   "source": [
    "best_comp = random_search.best_estimator_\n",
    "best_comp.fit(features_std, y_full)"
   ]
  },
  {
   "cell_type": "code",
   "execution_count": 107,
   "metadata": {},
   "outputs": [
    {
     "data": {
      "text/plain": [
       "0.7950668260349886"
      ]
     },
     "execution_count": 107,
     "metadata": {},
     "output_type": "execute_result"
    }
   ],
   "source": [
    "best_comp.score(features_std, y_full)"
   ]
  },
  {
   "cell_type": "code",
   "execution_count": 113,
   "metadata": {},
   "outputs": [
    {
     "data": {
      "text/plain": [
       "(104,)"
      ]
     },
     "execution_count": 113,
     "metadata": {},
     "output_type": "execute_result"
    }
   ],
   "source": [
    "best_est.feature_importances_.shape"
   ]
  },
  {
   "cell_type": "code",
   "execution_count": 116,
   "metadata": {
    "scrolled": true
   },
   "outputs": [
    {
     "data": {
      "text/html": [
       "<div>\n",
       "<style scoped>\n",
       "    .dataframe tbody tr th:only-of-type {\n",
       "        vertical-align: middle;\n",
       "    }\n",
       "\n",
       "    .dataframe tbody tr th {\n",
       "        vertical-align: top;\n",
       "    }\n",
       "\n",
       "    .dataframe thead th {\n",
       "        text-align: right;\n",
       "    }\n",
       "</style>\n",
       "<table border=\"1\" class=\"dataframe\">\n",
       "  <thead>\n",
       "    <tr style=\"text-align: right;\">\n",
       "      <th></th>\n",
       "      <th>importance</th>\n",
       "      <th>variable</th>\n",
       "    </tr>\n",
       "  </thead>\n",
       "  <tbody>\n",
       "    <tr>\n",
       "      <th>80</th>\n",
       "      <td>0.000000</td>\n",
       "      <td>AbyssopelagicMissing</td>\n",
       "    </tr>\n",
       "    <tr>\n",
       "      <th>32</th>\n",
       "      <td>0.000000</td>\n",
       "      <td>Saltmarshes</td>\n",
       "    </tr>\n",
       "    <tr>\n",
       "      <th>31</th>\n",
       "      <td>0.000000</td>\n",
       "      <td>SupraLittoralZone</td>\n",
       "    </tr>\n",
       "    <tr>\n",
       "      <th>56</th>\n",
       "      <td>0.000000</td>\n",
       "      <td>brackish</td>\n",
       "    </tr>\n",
       "    <tr>\n",
       "      <th>60</th>\n",
       "      <td>0.000000</td>\n",
       "      <td>temperate</td>\n",
       "    </tr>\n",
       "    <tr>\n",
       "      <th>...</th>\n",
       "      <td>...</td>\n",
       "      <td>...</td>\n",
       "    </tr>\n",
       "    <tr>\n",
       "      <th>93</th>\n",
       "      <td>0.031113</td>\n",
       "      <td>saltwaterMissing</td>\n",
       "    </tr>\n",
       "    <tr>\n",
       "      <th>97</th>\n",
       "      <td>0.032726</td>\n",
       "      <td>polarMissing</td>\n",
       "    </tr>\n",
       "    <tr>\n",
       "      <th>92</th>\n",
       "      <td>0.032858</td>\n",
       "      <td>freshwaterMissing</td>\n",
       "    </tr>\n",
       "    <tr>\n",
       "      <th>96</th>\n",
       "      <td>0.033053</td>\n",
       "      <td>subtropicalMissing</td>\n",
       "    </tr>\n",
       "    <tr>\n",
       "      <th>50</th>\n",
       "      <td>0.044333</td>\n",
       "      <td>Cave</td>\n",
       "    </tr>\n",
       "  </tbody>\n",
       "</table>\n",
       "<p>104 rows × 2 columns</p>\n",
       "</div>"
      ],
      "text/plain": [
       "    importance              variable\n",
       "80    0.000000  AbyssopelagicMissing\n",
       "32    0.000000           Saltmarshes\n",
       "31    0.000000     SupraLittoralZone\n",
       "56    0.000000              brackish\n",
       "60    0.000000             temperate\n",
       "..         ...                   ...\n",
       "93    0.031113      saltwaterMissing\n",
       "97    0.032726          polarMissing\n",
       "92    0.032858     freshwaterMissing\n",
       "96    0.033053    subtropicalMissing\n",
       "50    0.044333                  Cave\n",
       "\n",
       "[104 rows x 2 columns]"
      ]
     },
     "execution_count": 116,
     "metadata": {},
     "output_type": "execute_result"
    }
   ],
   "source": [
    "imputed_cols = features_std.columns.append(features_std.columns[features_std.isnull().any()] + \"Missing\")\n",
    "\n",
    "var_imp = pd.concat([pd.Series(best_est.feature_importances_),\n",
    "             pd.Series(imputed_cols)],axis = 1)\n",
    "var_imp.columns=[\"importance\", \"variable\"]\n",
    "var_imp.sort_values('importance')"
   ]
  },
  {
   "cell_type": "code",
   "execution_count": 115,
   "metadata": {},
   "outputs": [
    {
     "data": {
      "image/png": "[encoded data removed]",
      "text/plain": [
       "<Figure size 640x480 with 1 Axes>"
      ]
     },
     "metadata": {},
     "output_type": "display_data"
    },
    {
     "data": {
      "text/plain": [
       "<ggplot: (-9223371924967362988)>"
      ]
     },
     "execution_count": 115,
     "metadata": {},
     "output_type": "execute_result"
    }
   ],
   "source": [
    "(ggplot(aes(y = 'importance',\n",
    "            x = 'variable'),\n",
    "       var_imp.sort_values('importance').iloc[-20:,]) +\n",
    " geom_bar(stat = \"identity\") +\n",
    " coord_flip())"
   ]
  },
  {
   "cell_type": "markdown",
   "metadata": {},
   "source": [
    "### 5. Ordinal Classification - Conservation Status as a pseudo-numeric scale"
   ]
  },
  {
   "cell_type": "markdown",
   "metadata": {},
   "source": [
    "### 6. Predicting Unlabelled Observations"
   ]
  },
  {
   "cell_type": "markdown",
   "metadata": {},
   "source": [
    "#### 6.1 Comparison with other methods"
   ]
  }
 ],
 "metadata": {
  "kernelspec": {
   "display_name": "Python 3",
   "language": "python",
   "name": "python3"
  },
  "language_info": {
   "codemirror_mode": {
    "name": "ipython",
    "version": 3
   },
   "file_extension": ".py",
   "mimetype": "text/x-python",
   "name": "python",
   "nbconvert_exporter": "python",
   "pygments_lexer": "ipython3",
   "version": "3.7.7"
  }
 },
 "nbformat": 4,
 "nbformat_minor": 4
}
